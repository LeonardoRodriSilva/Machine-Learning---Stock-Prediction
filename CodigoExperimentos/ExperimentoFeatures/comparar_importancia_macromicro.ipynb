{
 "cells": [
  {
   "cell_type": "code",
   "execution_count": 2,
   "id": "2f57f805",
   "metadata": {},
   "outputs": [
    {
     "name": "stdout",
     "output_type": "stream",
     "text": [
      "Iniciando análise de importância de features macro/micro...\n",
      "\n",
      "====== Analisando BEEF3.SA ======\n",
      "\n",
      "Avaliando BEEF3.SA com conjunto price_only: ['Close_Feature', 'Preço_anterior']\n"
     ]
    },
    {
     "name": "stderr",
     "output_type": "stream",
     "text": [
      "c:\\Users\\leona\\anaconda3\\envs\\ambiente\\Lib\\site-packages\\keras\\src\\layers\\core\\dense.py:87: UserWarning: Do not pass an `input_shape`/`input_dim` argument to a layer. When using Sequential models, prefer using an `Input(shape)` object as the first layer in the model instead.\n",
      "  super().__init__(activity_regularizer=activity_regularizer, **kwargs)\n"
     ]
    },
    {
     "name": "stdout",
     "output_type": "stream",
     "text": [
      "\u001b[1m12/12\u001b[0m \u001b[32m━━━━━━━━━━━━━━━━━━━━\u001b[0m\u001b[37m\u001b[0m \u001b[1m0s\u001b[0m 2ms/step \n",
      "  RMSE: 1.8727, Var Pred/Real: 0.0000\n",
      "\n",
      "Avaliando BEEF3.SA com conjunto macro_only: ['IPCA', 'TaxaCambio', 'Selic', 'PIB']\n"
     ]
    },
    {
     "name": "stderr",
     "output_type": "stream",
     "text": [
      "c:\\Users\\leona\\anaconda3\\envs\\ambiente\\Lib\\site-packages\\keras\\src\\layers\\core\\dense.py:87: UserWarning: Do not pass an `input_shape`/`input_dim` argument to a layer. When using Sequential models, prefer using an `Input(shape)` object as the first layer in the model instead.\n",
      "  super().__init__(activity_regularizer=activity_regularizer, **kwargs)\n"
     ]
    },
    {
     "name": "stdout",
     "output_type": "stream",
     "text": [
      "\u001b[1m12/12\u001b[0m \u001b[32m━━━━━━━━━━━━━━━━━━━━\u001b[0m\u001b[37m\u001b[0m \u001b[1m0s\u001b[0m 2ms/step \n",
      "  RMSE: 4.0686, Var Pred/Real: 0.2434\n",
      "\n",
      "Avaliando BEEF3.SA com conjunto micro_only: ['P/L', 'ROA', 'Margem Líquida', 'ROE', 'VP']\n"
     ]
    },
    {
     "name": "stderr",
     "output_type": "stream",
     "text": [
      "c:\\Users\\leona\\anaconda3\\envs\\ambiente\\Lib\\site-packages\\keras\\src\\layers\\core\\dense.py:87: UserWarning: Do not pass an `input_shape`/`input_dim` argument to a layer. When using Sequential models, prefer using an `Input(shape)` object as the first layer in the model instead.\n",
      "  super().__init__(activity_regularizer=activity_regularizer, **kwargs)\n"
     ]
    },
    {
     "name": "stdout",
     "output_type": "stream",
     "text": [
      "\u001b[1m12/12\u001b[0m \u001b[32m━━━━━━━━━━━━━━━━━━━━\u001b[0m\u001b[37m\u001b[0m \u001b[1m0s\u001b[0m 3ms/step \n",
      "  RMSE: 10.2155, Var Pred/Real: -0.0000\n",
      "\n",
      "Avaliando BEEF3.SA com conjunto price_macro: ['TaxaCambio', 'PIB', 'Preço_anterior', 'Close_Feature', 'Selic', 'IPCA']\n"
     ]
    },
    {
     "name": "stderr",
     "output_type": "stream",
     "text": [
      "c:\\Users\\leona\\anaconda3\\envs\\ambiente\\Lib\\site-packages\\keras\\src\\layers\\core\\dense.py:87: UserWarning: Do not pass an `input_shape`/`input_dim` argument to a layer. When using Sequential models, prefer using an `Input(shape)` object as the first layer in the model instead.\n",
      "  super().__init__(activity_regularizer=activity_regularizer, **kwargs)\n"
     ]
    },
    {
     "name": "stdout",
     "output_type": "stream",
     "text": [
      "\u001b[1m12/12\u001b[0m \u001b[32m━━━━━━━━━━━━━━━━━━━━\u001b[0m\u001b[37m\u001b[0m \u001b[1m0s\u001b[0m 2ms/step \n",
      "  RMSE: 1.8727, Var Pred/Real: 0.0000\n",
      "\n",
      "Avaliando BEEF3.SA com conjunto price_micro: ['P/L', 'ROA', 'Margem Líquida', 'ROE', 'Preço_anterior', 'VP', 'Close_Feature']\n"
     ]
    },
    {
     "name": "stderr",
     "output_type": "stream",
     "text": [
      "c:\\Users\\leona\\anaconda3\\envs\\ambiente\\Lib\\site-packages\\keras\\src\\layers\\core\\dense.py:87: UserWarning: Do not pass an `input_shape`/`input_dim` argument to a layer. When using Sequential models, prefer using an `Input(shape)` object as the first layer in the model instead.\n",
      "  super().__init__(activity_regularizer=activity_regularizer, **kwargs)\n"
     ]
    },
    {
     "name": "stdout",
     "output_type": "stream",
     "text": [
      "\u001b[1m12/12\u001b[0m \u001b[32m━━━━━━━━━━━━━━━━━━━━\u001b[0m\u001b[37m\u001b[0m \u001b[1m0s\u001b[0m 2ms/step \n",
      "  RMSE: 1.8837, Var Pred/Real: 0.0000\n",
      "\n",
      "Avaliando BEEF3.SA com conjunto macro_micro: ['TaxaCambio', 'PIB', 'P/L', 'ROA', 'ROE', 'Margem Líquida', 'VP', 'Selic', 'IPCA']\n"
     ]
    },
    {
     "name": "stderr",
     "output_type": "stream",
     "text": [
      "c:\\Users\\leona\\anaconda3\\envs\\ambiente\\Lib\\site-packages\\keras\\src\\layers\\core\\dense.py:87: UserWarning: Do not pass an `input_shape`/`input_dim` argument to a layer. When using Sequential models, prefer using an `Input(shape)` object as the first layer in the model instead.\n",
      "  super().__init__(activity_regularizer=activity_regularizer, **kwargs)\n"
     ]
    },
    {
     "name": "stdout",
     "output_type": "stream",
     "text": [
      "\u001b[1m12/12\u001b[0m \u001b[32m━━━━━━━━━━━━━━━━━━━━\u001b[0m\u001b[37m\u001b[0m \u001b[1m0s\u001b[0m 3ms/step \n",
      "  RMSE: 9.6100, Var Pred/Real: 6.1842\n",
      "\n",
      "Avaliando BEEF3.SA com conjunto all: ['TaxaCambio', 'PIB', 'P/L', 'ROA', 'ROE', 'Margem Líquida', 'Preço_anterior', 'VP', 'Close_Feature', 'Selic', 'IPCA']\n"
     ]
    },
    {
     "name": "stderr",
     "output_type": "stream",
     "text": [
      "c:\\Users\\leona\\anaconda3\\envs\\ambiente\\Lib\\site-packages\\keras\\src\\layers\\core\\dense.py:87: UserWarning: Do not pass an `input_shape`/`input_dim` argument to a layer. When using Sequential models, prefer using an `Input(shape)` object as the first layer in the model instead.\n",
      "  super().__init__(activity_regularizer=activity_regularizer, **kwargs)\n"
     ]
    },
    {
     "name": "stdout",
     "output_type": "stream",
     "text": [
      "\u001b[1m12/12\u001b[0m \u001b[32m━━━━━━━━━━━━━━━━━━━━\u001b[0m\u001b[37m\u001b[0m \u001b[1m0s\u001b[0m 2ms/step \n",
      "  RMSE: 1.8768, Var Pred/Real: 0.0000\n"
     ]
    },
    {
     "name": "stderr",
     "output_type": "stream",
     "text": [
      "c:\\Users\\leona\\anaconda3\\envs\\ambiente\\Lib\\site-packages\\shap\\explainers\\_deep\\deep_tf.py:94: UserWarning: Your TensorFlow version is newer than 2.4.0 and so graph support has been removed in eager mode and some static graphs may not be supported. See PR #1483 for discussion.\n",
      "  warnings.warn(\n"
     ]
    },
    {
     "name": "stdout",
     "output_type": "stream",
     "text": [
      "  Erro ao calcular SHAP: The SHAP explanations do not sum up to the model's output! This is either because of a rounding error or because an operator in your computation graph was not fully supported. If the sum difference of %f is significant compared to the scale of your model outputs, please post as a github issue, with a reproducible example so we can debug it. Used framework: tensorflow - Max. diff: nan - Tolerance: 0.01\n",
      "\n",
      "====== Analisando PETR4.SA ======\n",
      "\n",
      "Avaliando PETR4.SA com conjunto price_only: ['Preço_anterior']\n"
     ]
    },
    {
     "name": "stderr",
     "output_type": "stream",
     "text": [
      "c:\\Users\\leona\\anaconda3\\envs\\ambiente\\Lib\\site-packages\\keras\\src\\layers\\core\\dense.py:87: UserWarning: Do not pass an `input_shape`/`input_dim` argument to a layer. When using Sequential models, prefer using an `Input(shape)` object as the first layer in the model instead.\n",
      "  super().__init__(activity_regularizer=activity_regularizer, **kwargs)\n"
     ]
    },
    {
     "name": "stdout",
     "output_type": "stream",
     "text": [
      "\u001b[1m12/12\u001b[0m \u001b[32m━━━━━━━━━━━━━━━━━━━━\u001b[0m\u001b[37m\u001b[0m \u001b[1m0s\u001b[0m 2ms/step \n",
      "  RMSE: 0.3766, Var Pred/Real: 0.9949\n",
      "\n",
      "Avaliando PETR4.SA com conjunto macro_only: ['IPCA', 'TaxaCambio', 'Selic', 'PIB']\n"
     ]
    },
    {
     "name": "stderr",
     "output_type": "stream",
     "text": [
      "c:\\Users\\leona\\anaconda3\\envs\\ambiente\\Lib\\site-packages\\keras\\src\\layers\\core\\dense.py:87: UserWarning: Do not pass an `input_shape`/`input_dim` argument to a layer. When using Sequential models, prefer using an `Input(shape)` object as the first layer in the model instead.\n",
      "  super().__init__(activity_regularizer=activity_regularizer, **kwargs)\n"
     ]
    },
    {
     "name": "stdout",
     "output_type": "stream",
     "text": [
      "\u001b[1m12/12\u001b[0m \u001b[32m━━━━━━━━━━━━━━━━━━━━\u001b[0m\u001b[37m\u001b[0m \u001b[1m0s\u001b[0m 2ms/step \n",
      "  RMSE: 8.5406, Var Pred/Real: 0.0968\n",
      "\n",
      "Avaliando PETR4.SA com conjunto micro_only: ['P/L', 'ROA', 'Margem Líquida', 'ROE', 'VP']\n"
     ]
    },
    {
     "name": "stderr",
     "output_type": "stream",
     "text": [
      "c:\\Users\\leona\\anaconda3\\envs\\ambiente\\Lib\\site-packages\\keras\\src\\layers\\core\\dense.py:87: UserWarning: Do not pass an `input_shape`/`input_dim` argument to a layer. When using Sequential models, prefer using an `Input(shape)` object as the first layer in the model instead.\n",
      "  super().__init__(activity_regularizer=activity_regularizer, **kwargs)\n"
     ]
    },
    {
     "name": "stdout",
     "output_type": "stream",
     "text": [
      "\u001b[1m12/12\u001b[0m \u001b[32m━━━━━━━━━━━━━━━━━━━━\u001b[0m\u001b[37m\u001b[0m \u001b[1m0s\u001b[0m 2ms/step \n",
      "  RMSE: 18.3776, Var Pred/Real: 0.0000\n",
      "\n",
      "Avaliando PETR4.SA com conjunto price_macro: ['TaxaCambio', 'PIB', 'Preço_anterior', 'Selic', 'IPCA']\n"
     ]
    },
    {
     "name": "stderr",
     "output_type": "stream",
     "text": [
      "c:\\Users\\leona\\anaconda3\\envs\\ambiente\\Lib\\site-packages\\keras\\src\\layers\\core\\dense.py:87: UserWarning: Do not pass an `input_shape`/`input_dim` argument to a layer. When using Sequential models, prefer using an `Input(shape)` object as the first layer in the model instead.\n",
      "  super().__init__(activity_regularizer=activity_regularizer, **kwargs)\n"
     ]
    },
    {
     "name": "stdout",
     "output_type": "stream",
     "text": [
      "\u001b[1m12/12\u001b[0m \u001b[32m━━━━━━━━━━━━━━━━━━━━\u001b[0m\u001b[37m\u001b[0m \u001b[1m0s\u001b[0m 2ms/step \n",
      "  RMSE: 3.6493, Var Pred/Real: 0.6376\n",
      "\n",
      "Avaliando PETR4.SA com conjunto price_micro: ['P/L', 'ROA', 'Margem Líquida', 'ROE', 'Preço_anterior', 'VP']\n"
     ]
    },
    {
     "name": "stderr",
     "output_type": "stream",
     "text": [
      "c:\\Users\\leona\\anaconda3\\envs\\ambiente\\Lib\\site-packages\\keras\\src\\layers\\core\\dense.py:87: UserWarning: Do not pass an `input_shape`/`input_dim` argument to a layer. When using Sequential models, prefer using an `Input(shape)` object as the first layer in the model instead.\n",
      "  super().__init__(activity_regularizer=activity_regularizer, **kwargs)\n"
     ]
    },
    {
     "name": "stdout",
     "output_type": "stream",
     "text": [
      "\u001b[1m12/12\u001b[0m \u001b[32m━━━━━━━━━━━━━━━━━━━━\u001b[0m\u001b[37m\u001b[0m \u001b[1m0s\u001b[0m 2ms/step \n",
      "  RMSE: 10.5586, Var Pred/Real: 1.4898\n",
      "\n",
      "Avaliando PETR4.SA com conjunto macro_micro: ['TaxaCambio', 'PIB', 'P/L', 'ROA', 'ROE', 'Margem Líquida', 'VP', 'Selic', 'IPCA']\n"
     ]
    },
    {
     "name": "stderr",
     "output_type": "stream",
     "text": [
      "c:\\Users\\leona\\anaconda3\\envs\\ambiente\\Lib\\site-packages\\keras\\src\\layers\\core\\dense.py:87: UserWarning: Do not pass an `input_shape`/`input_dim` argument to a layer. When using Sequential models, prefer using an `Input(shape)` object as the first layer in the model instead.\n",
      "  super().__init__(activity_regularizer=activity_regularizer, **kwargs)\n"
     ]
    },
    {
     "name": "stdout",
     "output_type": "stream",
     "text": [
      "\u001b[1m12/12\u001b[0m \u001b[32m━━━━━━━━━━━━━━━━━━━━\u001b[0m\u001b[37m\u001b[0m \u001b[1m0s\u001b[0m 3ms/step \n",
      "  RMSE: 27.0043, Var Pred/Real: -0.2887\n",
      "\n",
      "Avaliando PETR4.SA com conjunto all: ['TaxaCambio', 'PIB', 'P/L', 'ROA', 'ROE', 'Margem Líquida', 'Preço_anterior', 'VP', 'Selic', 'IPCA']\n"
     ]
    },
    {
     "name": "stderr",
     "output_type": "stream",
     "text": [
      "c:\\Users\\leona\\anaconda3\\envs\\ambiente\\Lib\\site-packages\\keras\\src\\layers\\core\\dense.py:87: UserWarning: Do not pass an `input_shape`/`input_dim` argument to a layer. When using Sequential models, prefer using an `Input(shape)` object as the first layer in the model instead.\n",
      "  super().__init__(activity_regularizer=activity_regularizer, **kwargs)\n"
     ]
    },
    {
     "name": "stdout",
     "output_type": "stream",
     "text": [
      "\u001b[1m12/12\u001b[0m \u001b[32m━━━━━━━━━━━━━━━━━━━━\u001b[0m\u001b[37m\u001b[0m \u001b[1m0s\u001b[0m 2ms/step \n",
      "  RMSE: 3.6792, Var Pred/Real: 0.3493\n",
      "  Erro ao calcular SHAP: index 1 is out of bounds for axis 0 with size 1\n"
     ]
    },
    {
     "name": "stderr",
     "output_type": "stream",
     "text": [
      "c:\\Users\\leona\\anaconda3\\envs\\ambiente\\Lib\\site-packages\\shap\\explainers\\_deep\\deep_tf.py:94: UserWarning: Your TensorFlow version is newer than 2.4.0 and so graph support has been removed in eager mode and some static graphs may not be supported. See PR #1483 for discussion.\n",
      "  warnings.warn(\n"
     ]
    },
    {
     "name": "stdout",
     "output_type": "stream",
     "text": [
      "\n",
      "====== Analisando SOJA3.SA ======\n",
      "\n",
      "Avaliando SOJA3.SA com conjunto price_only: ['Preço_anterior']\n"
     ]
    },
    {
     "name": "stderr",
     "output_type": "stream",
     "text": [
      "c:\\Users\\leona\\anaconda3\\envs\\ambiente\\Lib\\site-packages\\keras\\src\\layers\\core\\dense.py:87: UserWarning: Do not pass an `input_shape`/`input_dim` argument to a layer. When using Sequential models, prefer using an `Input(shape)` object as the first layer in the model instead.\n",
      "  super().__init__(activity_regularizer=activity_regularizer, **kwargs)\n"
     ]
    },
    {
     "name": "stdout",
     "output_type": "stream",
     "text": [
      "\u001b[1m12/12\u001b[0m \u001b[32m━━━━━━━━━━━━━━━━━━━━\u001b[0m\u001b[37m\u001b[0m \u001b[1m0s\u001b[0m 2ms/step \n",
      "  RMSE: 0.2361, Var Pred/Real: 0.9820\n",
      "\n",
      "Avaliando SOJA3.SA com conjunto macro_only: ['IPCA', 'TaxaCambio', 'Selic', 'PIB']\n"
     ]
    },
    {
     "name": "stderr",
     "output_type": "stream",
     "text": [
      "c:\\Users\\leona\\anaconda3\\envs\\ambiente\\Lib\\site-packages\\keras\\src\\layers\\core\\dense.py:87: UserWarning: Do not pass an `input_shape`/`input_dim` argument to a layer. When using Sequential models, prefer using an `Input(shape)` object as the first layer in the model instead.\n",
      "  super().__init__(activity_regularizer=activity_regularizer, **kwargs)\n"
     ]
    },
    {
     "name": "stdout",
     "output_type": "stream",
     "text": [
      "\u001b[1m12/12\u001b[0m \u001b[32m━━━━━━━━━━━━━━━━━━━━\u001b[0m\u001b[37m\u001b[0m \u001b[1m0s\u001b[0m 2ms/step \n",
      "  RMSE: 1.8024, Var Pred/Real: 0.3636\n",
      "\n",
      "Avaliando SOJA3.SA com conjunto micro_only: ['P/L', 'ROA', 'Margem Líquida', 'ROE', 'VP']\n"
     ]
    },
    {
     "name": "stderr",
     "output_type": "stream",
     "text": [
      "c:\\Users\\leona\\anaconda3\\envs\\ambiente\\Lib\\site-packages\\keras\\src\\layers\\core\\dense.py:87: UserWarning: Do not pass an `input_shape`/`input_dim` argument to a layer. When using Sequential models, prefer using an `Input(shape)` object as the first layer in the model instead.\n",
      "  super().__init__(activity_regularizer=activity_regularizer, **kwargs)\n"
     ]
    },
    {
     "name": "stdout",
     "output_type": "stream",
     "text": [
      "\u001b[1m12/12\u001b[0m \u001b[32m━━━━━━━━━━━━━━━━━━━━\u001b[0m\u001b[37m\u001b[0m \u001b[1m0s\u001b[0m 2ms/step \n",
      "  RMSE: 1.5513, Var Pred/Real: 0.0000\n",
      "\n",
      "Avaliando SOJA3.SA com conjunto price_macro: ['TaxaCambio', 'PIB', 'Preço_anterior', 'Selic', 'IPCA']\n"
     ]
    },
    {
     "name": "stderr",
     "output_type": "stream",
     "text": [
      "c:\\Users\\leona\\anaconda3\\envs\\ambiente\\Lib\\site-packages\\keras\\src\\layers\\core\\dense.py:87: UserWarning: Do not pass an `input_shape`/`input_dim` argument to a layer. When using Sequential models, prefer using an `Input(shape)` object as the first layer in the model instead.\n",
      "  super().__init__(activity_regularizer=activity_regularizer, **kwargs)\n"
     ]
    },
    {
     "name": "stdout",
     "output_type": "stream",
     "text": [
      "\u001b[1m12/12\u001b[0m \u001b[32m━━━━━━━━━━━━━━━━━━━━\u001b[0m\u001b[37m\u001b[0m \u001b[1m0s\u001b[0m 2ms/step \n",
      "  RMSE: 0.6569, Var Pred/Real: 0.6378\n",
      "\n",
      "Avaliando SOJA3.SA com conjunto price_micro: ['P/L', 'ROA', 'Margem Líquida', 'ROE', 'Preço_anterior', 'VP']\n"
     ]
    },
    {
     "name": "stderr",
     "output_type": "stream",
     "text": [
      "c:\\Users\\leona\\anaconda3\\envs\\ambiente\\Lib\\site-packages\\keras\\src\\layers\\core\\dense.py:87: UserWarning: Do not pass an `input_shape`/`input_dim` argument to a layer. When using Sequential models, prefer using an `Input(shape)` object as the first layer in the model instead.\n",
      "  super().__init__(activity_regularizer=activity_regularizer, **kwargs)\n"
     ]
    },
    {
     "name": "stdout",
     "output_type": "stream",
     "text": [
      "\u001b[1m12/12\u001b[0m \u001b[32m━━━━━━━━━━━━━━━━━━━━\u001b[0m\u001b[37m\u001b[0m \u001b[1m0s\u001b[0m 2ms/step \n",
      "  RMSE: 1.3393, Var Pred/Real: 0.5126\n",
      "\n",
      "Avaliando SOJA3.SA com conjunto macro_micro: ['TaxaCambio', 'PIB', 'P/L', 'ROA', 'ROE', 'Margem Líquida', 'VP', 'Selic', 'IPCA']\n"
     ]
    },
    {
     "name": "stderr",
     "output_type": "stream",
     "text": [
      "c:\\Users\\leona\\anaconda3\\envs\\ambiente\\Lib\\site-packages\\keras\\src\\layers\\core\\dense.py:87: UserWarning: Do not pass an `input_shape`/`input_dim` argument to a layer. When using Sequential models, prefer using an `Input(shape)` object as the first layer in the model instead.\n",
      "  super().__init__(activity_regularizer=activity_regularizer, **kwargs)\n"
     ]
    },
    {
     "name": "stdout",
     "output_type": "stream",
     "text": [
      "\u001b[1m12/12\u001b[0m \u001b[32m━━━━━━━━━━━━━━━━━━━━\u001b[0m\u001b[37m\u001b[0m \u001b[1m0s\u001b[0m 2ms/step \n",
      "  RMSE: 2.8495, Var Pred/Real: 0.1957\n",
      "\n",
      "Avaliando SOJA3.SA com conjunto all: ['TaxaCambio', 'PIB', 'P/L', 'ROA', 'ROE', 'Margem Líquida', 'Preço_anterior', 'VP', 'Selic', 'IPCA']\n"
     ]
    },
    {
     "name": "stderr",
     "output_type": "stream",
     "text": [
      "c:\\Users\\leona\\anaconda3\\envs\\ambiente\\Lib\\site-packages\\keras\\src\\layers\\core\\dense.py:87: UserWarning: Do not pass an `input_shape`/`input_dim` argument to a layer. When using Sequential models, prefer using an `Input(shape)` object as the first layer in the model instead.\n",
      "  super().__init__(activity_regularizer=activity_regularizer, **kwargs)\n"
     ]
    },
    {
     "name": "stdout",
     "output_type": "stream",
     "text": [
      "\u001b[1m12/12\u001b[0m \u001b[32m━━━━━━━━━━━━━━━━━━━━\u001b[0m\u001b[37m\u001b[0m \u001b[1m0s\u001b[0m 2ms/step \n",
      "  RMSE: 1.3369, Var Pred/Real: 0.4177\n",
      "  Erro ao calcular SHAP: index 1 is out of bounds for axis 0 with size 1\n"
     ]
    },
    {
     "name": "stderr",
     "output_type": "stream",
     "text": [
      "c:\\Users\\leona\\anaconda3\\envs\\ambiente\\Lib\\site-packages\\shap\\explainers\\_deep\\deep_tf.py:94: UserWarning: Your TensorFlow version is newer than 2.4.0 and so graph support has been removed in eager mode and some static graphs may not be supported. See PR #1483 for discussion.\n",
      "  warnings.warn(\n"
     ]
    },
    {
     "name": "stdout",
     "output_type": "stream",
     "text": [
      "\n",
      "====== Analisando GGBR3.SA ======\n",
      "Arquivo não encontrado: C:\\Users\\leona\\pyhtonscripts\\CodigoExperimentos\\ExperimentoFeatures\\dados_unificados/GGBR3.SA_dados_macro_micro.csv\n",
      "Pulando GGBR3.SA - dados não disponíveis\n",
      "\n",
      "====== Analisando CSNA3.SA ======\n",
      "\n",
      "Avaliando CSNA3.SA com conjunto price_only: ['Preço_anterior']\n"
     ]
    },
    {
     "name": "stderr",
     "output_type": "stream",
     "text": [
      "c:\\Users\\leona\\anaconda3\\envs\\ambiente\\Lib\\site-packages\\keras\\src\\layers\\core\\dense.py:87: UserWarning: Do not pass an `input_shape`/`input_dim` argument to a layer. When using Sequential models, prefer using an `Input(shape)` object as the first layer in the model instead.\n",
      "  super().__init__(activity_regularizer=activity_regularizer, **kwargs)\n"
     ]
    },
    {
     "name": "stdout",
     "output_type": "stream",
     "text": [
      "\u001b[1m12/12\u001b[0m \u001b[32m━━━━━━━━━━━━━━━━━━━━\u001b[0m\u001b[37m\u001b[0m \u001b[1m0s\u001b[0m 2ms/step \n",
      "  RMSE: 0.3255, Var Pred/Real: 0.9494\n",
      "\n",
      "Avaliando CSNA3.SA com conjunto macro_only: ['IPCA', 'TaxaCambio', 'Selic', 'PIB']\n"
     ]
    },
    {
     "name": "stderr",
     "output_type": "stream",
     "text": [
      "c:\\Users\\leona\\anaconda3\\envs\\ambiente\\Lib\\site-packages\\keras\\src\\layers\\core\\dense.py:87: UserWarning: Do not pass an `input_shape`/`input_dim` argument to a layer. When using Sequential models, prefer using an `Input(shape)` object as the first layer in the model instead.\n",
      "  super().__init__(activity_regularizer=activity_regularizer, **kwargs)\n"
     ]
    },
    {
     "name": "stdout",
     "output_type": "stream",
     "text": [
      "\u001b[1m12/12\u001b[0m \u001b[32m━━━━━━━━━━━━━━━━━━━━\u001b[0m\u001b[37m\u001b[0m \u001b[1m0s\u001b[0m 2ms/step \n",
      "  RMSE: 2.3645, Var Pred/Real: 0.7568\n",
      "\n",
      "Avaliando CSNA3.SA com conjunto micro_only: ['P/L', 'ROA', 'Margem Líquida', 'ROE', 'VP']\n"
     ]
    },
    {
     "name": "stderr",
     "output_type": "stream",
     "text": [
      "c:\\Users\\leona\\anaconda3\\envs\\ambiente\\Lib\\site-packages\\keras\\src\\layers\\core\\dense.py:87: UserWarning: Do not pass an `input_shape`/`input_dim` argument to a layer. When using Sequential models, prefer using an `Input(shape)` object as the first layer in the model instead.\n",
      "  super().__init__(activity_regularizer=activity_regularizer, **kwargs)\n"
     ]
    },
    {
     "name": "stdout",
     "output_type": "stream",
     "text": [
      "\u001b[1m12/12\u001b[0m \u001b[32m━━━━━━━━━━━━━━━━━━━━\u001b[0m\u001b[37m\u001b[0m \u001b[1m0s\u001b[0m 2ms/step \n",
      "  RMSE: 18.3856, Var Pred/Real: -0.0000\n",
      "\n",
      "Avaliando CSNA3.SA com conjunto price_macro: ['TaxaCambio', 'PIB', 'Preço_anterior', 'Selic', 'IPCA']\n"
     ]
    },
    {
     "name": "stderr",
     "output_type": "stream",
     "text": [
      "c:\\Users\\leona\\anaconda3\\envs\\ambiente\\Lib\\site-packages\\keras\\src\\layers\\core\\dense.py:87: UserWarning: Do not pass an `input_shape`/`input_dim` argument to a layer. When using Sequential models, prefer using an `Input(shape)` object as the first layer in the model instead.\n",
      "  super().__init__(activity_regularizer=activity_regularizer, **kwargs)\n"
     ]
    },
    {
     "name": "stdout",
     "output_type": "stream",
     "text": [
      "\u001b[1m12/12\u001b[0m \u001b[32m━━━━━━━━━━━━━━━━━━━━\u001b[0m\u001b[37m\u001b[0m \u001b[1m0s\u001b[0m 3ms/step \n",
      "  RMSE: 1.8852, Var Pred/Real: 0.5830\n",
      "\n",
      "Avaliando CSNA3.SA com conjunto price_micro: ['P/L', 'ROA', 'Margem Líquida', 'ROE', 'Preço_anterior', 'VP']\n"
     ]
    },
    {
     "name": "stderr",
     "output_type": "stream",
     "text": [
      "c:\\Users\\leona\\anaconda3\\envs\\ambiente\\Lib\\site-packages\\keras\\src\\layers\\core\\dense.py:87: UserWarning: Do not pass an `input_shape`/`input_dim` argument to a layer. When using Sequential models, prefer using an `Input(shape)` object as the first layer in the model instead.\n",
      "  super().__init__(activity_regularizer=activity_regularizer, **kwargs)\n"
     ]
    },
    {
     "name": "stdout",
     "output_type": "stream",
     "text": [
      "\u001b[1m12/12\u001b[0m \u001b[32m━━━━━━━━━━━━━━━━━━━━\u001b[0m\u001b[37m\u001b[0m \u001b[1m0s\u001b[0m 2ms/step \n",
      "  RMSE: 2.3396, Var Pred/Real: 0.5368\n",
      "\n",
      "Avaliando CSNA3.SA com conjunto macro_micro: ['TaxaCambio', 'PIB', 'P/L', 'ROA', 'ROE', 'Margem Líquida', 'VP', 'Selic', 'IPCA']\n"
     ]
    },
    {
     "name": "stderr",
     "output_type": "stream",
     "text": [
      "c:\\Users\\leona\\anaconda3\\envs\\ambiente\\Lib\\site-packages\\keras\\src\\layers\\core\\dense.py:87: UserWarning: Do not pass an `input_shape`/`input_dim` argument to a layer. When using Sequential models, prefer using an `Input(shape)` object as the first layer in the model instead.\n",
      "  super().__init__(activity_regularizer=activity_regularizer, **kwargs)\n"
     ]
    },
    {
     "name": "stdout",
     "output_type": "stream",
     "text": [
      "\u001b[1m12/12\u001b[0m \u001b[32m━━━━━━━━━━━━━━━━━━━━\u001b[0m\u001b[37m\u001b[0m \u001b[1m0s\u001b[0m 2ms/step \n",
      "  RMSE: 12.1688, Var Pred/Real: 76.4298\n",
      "\n",
      "Avaliando CSNA3.SA com conjunto all: ['TaxaCambio', 'PIB', 'P/L', 'ROA', 'ROE', 'Margem Líquida', 'Preço_anterior', 'VP', 'Selic', 'IPCA']\n"
     ]
    },
    {
     "name": "stderr",
     "output_type": "stream",
     "text": [
      "c:\\Users\\leona\\anaconda3\\envs\\ambiente\\Lib\\site-packages\\keras\\src\\layers\\core\\dense.py:87: UserWarning: Do not pass an `input_shape`/`input_dim` argument to a layer. When using Sequential models, prefer using an `Input(shape)` object as the first layer in the model instead.\n",
      "  super().__init__(activity_regularizer=activity_regularizer, **kwargs)\n"
     ]
    },
    {
     "name": "stdout",
     "output_type": "stream",
     "text": [
      "\u001b[1m12/12\u001b[0m \u001b[32m━━━━━━━━━━━━━━━━━━━━\u001b[0m\u001b[37m\u001b[0m \u001b[1m0s\u001b[0m 2ms/step \n",
      "  RMSE: 0.4452, Var Pred/Real: 0.9907\n",
      "  Erro ao calcular SHAP: index 1 is out of bounds for axis 0 with size 1\n"
     ]
    },
    {
     "name": "stderr",
     "output_type": "stream",
     "text": [
      "c:\\Users\\leona\\anaconda3\\envs\\ambiente\\Lib\\site-packages\\shap\\explainers\\_deep\\deep_tf.py:94: UserWarning: Your TensorFlow version is newer than 2.4.0 and so graph support has been removed in eager mode and some static graphs may not be supported. See PR #1483 for discussion.\n",
      "  warnings.warn(\n"
     ]
    },
    {
     "name": "stdout",
     "output_type": "stream",
     "text": [
      "\n",
      "====== Analisando VALE3.SA ======\n",
      "\n",
      "Avaliando VALE3.SA com conjunto price_only: ['Preço_anterior']\n"
     ]
    },
    {
     "name": "stderr",
     "output_type": "stream",
     "text": [
      "c:\\Users\\leona\\anaconda3\\envs\\ambiente\\Lib\\site-packages\\keras\\src\\layers\\core\\dense.py:87: UserWarning: Do not pass an `input_shape`/`input_dim` argument to a layer. When using Sequential models, prefer using an `Input(shape)` object as the first layer in the model instead.\n",
      "  super().__init__(activity_regularizer=activity_regularizer, **kwargs)\n"
     ]
    },
    {
     "name": "stdout",
     "output_type": "stream",
     "text": [
      "\u001b[1m12/12\u001b[0m \u001b[32m━━━━━━━━━━━━━━━━━━━━\u001b[0m\u001b[37m\u001b[0m \u001b[1m0s\u001b[0m 2ms/step \n",
      "  RMSE: 0.8838, Var Pred/Real: 0.9722\n",
      "\n",
      "Avaliando VALE3.SA com conjunto macro_only: ['IPCA', 'TaxaCambio', 'Selic', 'PIB']\n"
     ]
    },
    {
     "name": "stderr",
     "output_type": "stream",
     "text": [
      "c:\\Users\\leona\\anaconda3\\envs\\ambiente\\Lib\\site-packages\\keras\\src\\layers\\core\\dense.py:87: UserWarning: Do not pass an `input_shape`/`input_dim` argument to a layer. When using Sequential models, prefer using an `Input(shape)` object as the first layer in the model instead.\n",
      "  super().__init__(activity_regularizer=activity_regularizer, **kwargs)\n"
     ]
    },
    {
     "name": "stdout",
     "output_type": "stream",
     "text": [
      "\u001b[1m12/12\u001b[0m \u001b[32m━━━━━━━━━━━━━━━━━━━━\u001b[0m\u001b[37m\u001b[0m \u001b[1m0s\u001b[0m 3ms/step \n",
      "  RMSE: 5.0169, Var Pred/Real: 0.4139\n",
      "\n",
      "Avaliando VALE3.SA com conjunto micro_only: ['P/L', 'ROA', 'Margem Líquida', 'ROE', 'VP']\n"
     ]
    },
    {
     "name": "stderr",
     "output_type": "stream",
     "text": [
      "c:\\Users\\leona\\anaconda3\\envs\\ambiente\\Lib\\site-packages\\keras\\src\\layers\\core\\dense.py:87: UserWarning: Do not pass an `input_shape`/`input_dim` argument to a layer. When using Sequential models, prefer using an `Input(shape)` object as the first layer in the model instead.\n",
      "  super().__init__(activity_regularizer=activity_regularizer, **kwargs)\n"
     ]
    },
    {
     "name": "stdout",
     "output_type": "stream",
     "text": [
      "\u001b[1m12/12\u001b[0m \u001b[32m━━━━━━━━━━━━━━━━━━━━\u001b[0m\u001b[37m\u001b[0m \u001b[1m0s\u001b[0m 2ms/step \n",
      "  RMSE: 11.0842, Var Pred/Real: 0.0000\n",
      "\n",
      "Avaliando VALE3.SA com conjunto price_macro: ['TaxaCambio', 'PIB', 'Preço_anterior', 'Selic', 'IPCA']\n"
     ]
    },
    {
     "name": "stderr",
     "output_type": "stream",
     "text": [
      "c:\\Users\\leona\\anaconda3\\envs\\ambiente\\Lib\\site-packages\\keras\\src\\layers\\core\\dense.py:87: UserWarning: Do not pass an `input_shape`/`input_dim` argument to a layer. When using Sequential models, prefer using an `Input(shape)` object as the first layer in the model instead.\n",
      "  super().__init__(activity_regularizer=activity_regularizer, **kwargs)\n"
     ]
    },
    {
     "name": "stdout",
     "output_type": "stream",
     "text": [
      "\u001b[1m12/12\u001b[0m \u001b[32m━━━━━━━━━━━━━━━━━━━━\u001b[0m\u001b[37m\u001b[0m \u001b[1m0s\u001b[0m 2ms/step \n",
      "  RMSE: 2.5753, Var Pred/Real: 0.6703\n",
      "\n",
      "Avaliando VALE3.SA com conjunto price_micro: ['P/L', 'ROA', 'Margem Líquida', 'ROE', 'Preço_anterior', 'VP']\n"
     ]
    },
    {
     "name": "stderr",
     "output_type": "stream",
     "text": [
      "c:\\Users\\leona\\anaconda3\\envs\\ambiente\\Lib\\site-packages\\keras\\src\\layers\\core\\dense.py:87: UserWarning: Do not pass an `input_shape`/`input_dim` argument to a layer. When using Sequential models, prefer using an `Input(shape)` object as the first layer in the model instead.\n",
      "  super().__init__(activity_regularizer=activity_regularizer, **kwargs)\n"
     ]
    },
    {
     "name": "stdout",
     "output_type": "stream",
     "text": [
      "\u001b[1m12/12\u001b[0m \u001b[32m━━━━━━━━━━━━━━━━━━━━\u001b[0m\u001b[37m\u001b[0m \u001b[1m0s\u001b[0m 2ms/step \n",
      "  RMSE: 3.9920, Var Pred/Real: 0.7736\n",
      "\n",
      "Avaliando VALE3.SA com conjunto macro_micro: ['TaxaCambio', 'PIB', 'P/L', 'ROA', 'ROE', 'Margem Líquida', 'VP', 'Selic', 'IPCA']\n"
     ]
    },
    {
     "name": "stderr",
     "output_type": "stream",
     "text": [
      "c:\\Users\\leona\\anaconda3\\envs\\ambiente\\Lib\\site-packages\\keras\\src\\layers\\core\\dense.py:87: UserWarning: Do not pass an `input_shape`/`input_dim` argument to a layer. When using Sequential models, prefer using an `Input(shape)` object as the first layer in the model instead.\n",
      "  super().__init__(activity_regularizer=activity_regularizer, **kwargs)\n"
     ]
    },
    {
     "name": "stdout",
     "output_type": "stream",
     "text": [
      "\u001b[1m12/12\u001b[0m \u001b[32m━━━━━━━━━━━━━━━━━━━━\u001b[0m\u001b[37m\u001b[0m \u001b[1m0s\u001b[0m 2ms/step \n",
      "  RMSE: 6.6772, Var Pred/Real: 0.1881\n",
      "\n",
      "Avaliando VALE3.SA com conjunto all: ['TaxaCambio', 'PIB', 'P/L', 'ROA', 'ROE', 'Margem Líquida', 'Preço_anterior', 'VP', 'Selic', 'IPCA']\n"
     ]
    },
    {
     "name": "stderr",
     "output_type": "stream",
     "text": [
      "c:\\Users\\leona\\anaconda3\\envs\\ambiente\\Lib\\site-packages\\keras\\src\\layers\\core\\dense.py:87: UserWarning: Do not pass an `input_shape`/`input_dim` argument to a layer. When using Sequential models, prefer using an `Input(shape)` object as the first layer in the model instead.\n",
      "  super().__init__(activity_regularizer=activity_regularizer, **kwargs)\n"
     ]
    },
    {
     "name": "stdout",
     "output_type": "stream",
     "text": [
      "\u001b[1m12/12\u001b[0m \u001b[32m━━━━━━━━━━━━━━━━━━━━\u001b[0m\u001b[37m\u001b[0m \u001b[1m0s\u001b[0m 2ms/step \n",
      "  RMSE: 6.5719, Var Pred/Real: 0.8640\n",
      "  Erro ao calcular SHAP: index 1 is out of bounds for axis 0 with size 1\n"
     ]
    },
    {
     "name": "stderr",
     "output_type": "stream",
     "text": [
      "c:\\Users\\leona\\anaconda3\\envs\\ambiente\\Lib\\site-packages\\shap\\explainers\\_deep\\deep_tf.py:94: UserWarning: Your TensorFlow version is newer than 2.4.0 and so graph support has been removed in eager mode and some static graphs may not be supported. See PR #1483 for discussion.\n",
      "  warnings.warn(\n"
     ]
    },
    {
     "name": "stdout",
     "output_type": "stream",
     "text": [
      "\n",
      "====== Analisando JBSS3.SA ======\n",
      "\n",
      "Avaliando JBSS3.SA com conjunto price_only: ['Preço_anterior']\n"
     ]
    },
    {
     "name": "stderr",
     "output_type": "stream",
     "text": [
      "c:\\Users\\leona\\anaconda3\\envs\\ambiente\\Lib\\site-packages\\keras\\src\\layers\\core\\dense.py:87: UserWarning: Do not pass an `input_shape`/`input_dim` argument to a layer. When using Sequential models, prefer using an `Input(shape)` object as the first layer in the model instead.\n",
      "  super().__init__(activity_regularizer=activity_regularizer, **kwargs)\n"
     ]
    },
    {
     "name": "stdout",
     "output_type": "stream",
     "text": [
      "\u001b[1m12/12\u001b[0m \u001b[32m━━━━━━━━━━━━━━━━━━━━\u001b[0m\u001b[37m\u001b[0m \u001b[1m0s\u001b[0m 2ms/step \n",
      "  RMSE: 0.2839, Var Pred/Real: 0.9796\n",
      "\n",
      "Avaliando JBSS3.SA com conjunto macro_only: ['IPCA', 'TaxaCambio', 'Selic', 'PIB']\n"
     ]
    },
    {
     "name": "stderr",
     "output_type": "stream",
     "text": [
      "c:\\Users\\leona\\anaconda3\\envs\\ambiente\\Lib\\site-packages\\keras\\src\\layers\\core\\dense.py:87: UserWarning: Do not pass an `input_shape`/`input_dim` argument to a layer. When using Sequential models, prefer using an `Input(shape)` object as the first layer in the model instead.\n",
      "  super().__init__(activity_regularizer=activity_regularizer, **kwargs)\n"
     ]
    },
    {
     "name": "stdout",
     "output_type": "stream",
     "text": [
      "\u001b[1m12/12\u001b[0m \u001b[32m━━━━━━━━━━━━━━━━━━━━\u001b[0m\u001b[37m\u001b[0m \u001b[1m0s\u001b[0m 2ms/step \n",
      "  RMSE: 9.5710, Var Pred/Real: 0.1582\n",
      "\n",
      "Avaliando JBSS3.SA com conjunto micro_only: ['P/L', 'ROA', 'Margem Líquida', 'ROE', 'VP']\n"
     ]
    },
    {
     "name": "stderr",
     "output_type": "stream",
     "text": [
      "c:\\Users\\leona\\anaconda3\\envs\\ambiente\\Lib\\site-packages\\keras\\src\\layers\\core\\dense.py:87: UserWarning: Do not pass an `input_shape`/`input_dim` argument to a layer. When using Sequential models, prefer using an `Input(shape)` object as the first layer in the model instead.\n",
      "  super().__init__(activity_regularizer=activity_regularizer, **kwargs)\n"
     ]
    },
    {
     "name": "stdout",
     "output_type": "stream",
     "text": [
      "\u001b[1m12/12\u001b[0m \u001b[32m━━━━━━━━━━━━━━━━━━━━\u001b[0m\u001b[37m\u001b[0m \u001b[1m0s\u001b[0m 2ms/step \n",
      "  RMSE: 24.8225, Var Pred/Real: 0.0000\n",
      "\n",
      "Avaliando JBSS3.SA com conjunto price_macro: ['TaxaCambio', 'PIB', 'Preço_anterior', 'Selic', 'IPCA']\n"
     ]
    },
    {
     "name": "stderr",
     "output_type": "stream",
     "text": [
      "c:\\Users\\leona\\anaconda3\\envs\\ambiente\\Lib\\site-packages\\keras\\src\\layers\\core\\dense.py:87: UserWarning: Do not pass an `input_shape`/`input_dim` argument to a layer. When using Sequential models, prefer using an `Input(shape)` object as the first layer in the model instead.\n",
      "  super().__init__(activity_regularizer=activity_regularizer, **kwargs)\n"
     ]
    },
    {
     "name": "stdout",
     "output_type": "stream",
     "text": [
      "\u001b[1m12/12\u001b[0m \u001b[32m━━━━━━━━━━━━━━━━━━━━\u001b[0m\u001b[37m\u001b[0m \u001b[1m0s\u001b[0m 2ms/step \n",
      "  RMSE: 0.7983, Var Pred/Real: 0.7919\n",
      "\n",
      "Avaliando JBSS3.SA com conjunto price_micro: ['P/L', 'ROA', 'Margem Líquida', 'ROE', 'Preço_anterior', 'VP']\n"
     ]
    },
    {
     "name": "stderr",
     "output_type": "stream",
     "text": [
      "c:\\Users\\leona\\anaconda3\\envs\\ambiente\\Lib\\site-packages\\keras\\src\\layers\\core\\dense.py:87: UserWarning: Do not pass an `input_shape`/`input_dim` argument to a layer. When using Sequential models, prefer using an `Input(shape)` object as the first layer in the model instead.\n",
      "  super().__init__(activity_regularizer=activity_regularizer, **kwargs)\n"
     ]
    },
    {
     "name": "stdout",
     "output_type": "stream",
     "text": [
      "\u001b[1m12/12\u001b[0m \u001b[32m━━━━━━━━━━━━━━━━━━━━\u001b[0m\u001b[37m\u001b[0m \u001b[1m0s\u001b[0m 2ms/step \n",
      "  RMSE: 16.1932, Var Pred/Real: 8.1886\n",
      "\n",
      "Avaliando JBSS3.SA com conjunto macro_micro: ['TaxaCambio', 'PIB', 'P/L', 'ROA', 'ROE', 'Margem Líquida', 'VP', 'Selic', 'IPCA']\n"
     ]
    },
    {
     "name": "stderr",
     "output_type": "stream",
     "text": [
      "c:\\Users\\leona\\anaconda3\\envs\\ambiente\\Lib\\site-packages\\keras\\src\\layers\\core\\dense.py:87: UserWarning: Do not pass an `input_shape`/`input_dim` argument to a layer. When using Sequential models, prefer using an `Input(shape)` object as the first layer in the model instead.\n",
      "  super().__init__(activity_regularizer=activity_regularizer, **kwargs)\n"
     ]
    },
    {
     "name": "stdout",
     "output_type": "stream",
     "text": [
      "\u001b[1m12/12\u001b[0m \u001b[32m━━━━━━━━━━━━━━━━━━━━\u001b[0m\u001b[37m\u001b[0m \u001b[1m0s\u001b[0m 2ms/step \n",
      "  RMSE: 33.8044, Var Pred/Real: 0.0670\n",
      "\n",
      "Avaliando JBSS3.SA com conjunto all: ['TaxaCambio', 'PIB', 'P/L', 'ROA', 'ROE', 'Margem Líquida', 'Preço_anterior', 'VP', 'Selic', 'IPCA']\n"
     ]
    },
    {
     "name": "stderr",
     "output_type": "stream",
     "text": [
      "c:\\Users\\leona\\anaconda3\\envs\\ambiente\\Lib\\site-packages\\keras\\src\\layers\\core\\dense.py:87: UserWarning: Do not pass an `input_shape`/`input_dim` argument to a layer. When using Sequential models, prefer using an `Input(shape)` object as the first layer in the model instead.\n",
      "  super().__init__(activity_regularizer=activity_regularizer, **kwargs)\n"
     ]
    },
    {
     "name": "stdout",
     "output_type": "stream",
     "text": [
      "\u001b[1m12/12\u001b[0m \u001b[32m━━━━━━━━━━━━━━━━━━━━\u001b[0m\u001b[37m\u001b[0m \u001b[1m0s\u001b[0m 2ms/step \n",
      "  RMSE: 5.2175, Var Pred/Real: 0.3084\n",
      "  Erro ao calcular SHAP: index 1 is out of bounds for axis 0 with size 1\n"
     ]
    },
    {
     "name": "stderr",
     "output_type": "stream",
     "text": [
      "c:\\Users\\leona\\anaconda3\\envs\\ambiente\\Lib\\site-packages\\shap\\explainers\\_deep\\deep_tf.py:94: UserWarning: Your TensorFlow version is newer than 2.4.0 and so graph support has been removed in eager mode and some static graphs may not be supported. See PR #1483 for discussion.\n",
      "  warnings.warn(\n"
     ]
    },
    {
     "name": "stdout",
     "output_type": "stream",
     "text": [
      "\n",
      "====== Analisando BRFS3.SA ======\n",
      "\n",
      "Avaliando BRFS3.SA com conjunto price_only: ['Preço_anterior']\n"
     ]
    },
    {
     "name": "stderr",
     "output_type": "stream",
     "text": [
      "c:\\Users\\leona\\anaconda3\\envs\\ambiente\\Lib\\site-packages\\keras\\src\\layers\\core\\dense.py:87: UserWarning: Do not pass an `input_shape`/`input_dim` argument to a layer. When using Sequential models, prefer using an `Input(shape)` object as the first layer in the model instead.\n",
      "  super().__init__(activity_regularizer=activity_regularizer, **kwargs)\n"
     ]
    },
    {
     "ename": "KeyboardInterrupt",
     "evalue": "",
     "output_type": "error",
     "traceback": [
      "\u001b[1;31m---------------------------------------------------------------------------\u001b[0m",
      "\u001b[1;31mKeyboardInterrupt\u001b[0m                         Traceback (most recent call last)",
      "Cell \u001b[1;32mIn[2], line 334\u001b[0m\n\u001b[0;32m    331\u001b[0m \u001b[38;5;66;03m# Reduzir verbosidade do TensorFlow\u001b[39;00m\n\u001b[0;32m    332\u001b[0m tf\u001b[38;5;241m.\u001b[39mget_logger()\u001b[38;5;241m.\u001b[39msetLevel(\u001b[38;5;124m'\u001b[39m\u001b[38;5;124mERROR\u001b[39m\u001b[38;5;124m'\u001b[39m)\n\u001b[1;32m--> 334\u001b[0m analisar_tickers()\n\u001b[0;32m    336\u001b[0m \u001b[38;5;28mprint\u001b[39m(\u001b[38;5;124m\"\u001b[39m\u001b[38;5;124mAnálise concluída!\u001b[39m\u001b[38;5;124m\"\u001b[39m)\n",
      "Cell \u001b[1;32mIn[2], line 293\u001b[0m, in \u001b[0;36manalisar_tickers\u001b[1;34m()\u001b[0m\n\u001b[0;32m    290\u001b[0m     \u001b[38;5;28;01mcontinue\u001b[39;00m\n\u001b[0;32m    292\u001b[0m \u001b[38;5;66;03m# Analisar e comparar conjuntos de features\u001b[39;00m\n\u001b[1;32m--> 293\u001b[0m resultados, importancias \u001b[38;5;241m=\u001b[39m comparar_conjuntos_features(ticker, df, feature_sets, target_col)\n\u001b[0;32m    295\u001b[0m \u001b[38;5;28;01mif\u001b[39;00m resultados:\n\u001b[0;32m    296\u001b[0m     \u001b[38;5;66;03m# Armazenar resultados globais\u001b[39;00m\n\u001b[0;32m    297\u001b[0m     \u001b[38;5;28;01mfor\u001b[39;00m set_name, metrics \u001b[38;5;129;01min\u001b[39;00m resultados\u001b[38;5;241m.\u001b[39mitems():\n",
      "Cell \u001b[1;32mIn[2], line 126\u001b[0m, in \u001b[0;36mcomparar_conjuntos_features\u001b[1;34m(ticker, df, feature_sets, target_col)\u001b[0m\n\u001b[0;32m    121\u001b[0m early_stopping \u001b[38;5;241m=\u001b[39m tf\u001b[38;5;241m.\u001b[39mkeras\u001b[38;5;241m.\u001b[39mcallbacks\u001b[38;5;241m.\u001b[39mEarlyStopping(\n\u001b[0;32m    122\u001b[0m     monitor\u001b[38;5;241m=\u001b[39m\u001b[38;5;124m'\u001b[39m\u001b[38;5;124mval_loss\u001b[39m\u001b[38;5;124m'\u001b[39m, patience\u001b[38;5;241m=\u001b[39m\u001b[38;5;241m10\u001b[39m, restore_best_weights\u001b[38;5;241m=\u001b[39m\u001b[38;5;28;01mTrue\u001b[39;00m\n\u001b[0;32m    123\u001b[0m )\n\u001b[0;32m    125\u001b[0m \u001b[38;5;66;03m# Treinar com validação\u001b[39;00m\n\u001b[1;32m--> 126\u001b[0m history \u001b[38;5;241m=\u001b[39m model\u001b[38;5;241m.\u001b[39mfit(\n\u001b[0;32m    127\u001b[0m     X_train_scaled, y_train_scaled,\n\u001b[0;32m    128\u001b[0m     validation_split\u001b[38;5;241m=\u001b[39m\u001b[38;5;241m0.2\u001b[39m,\n\u001b[0;32m    129\u001b[0m     epochs\u001b[38;5;241m=\u001b[39m\u001b[38;5;241m100\u001b[39m,\n\u001b[0;32m    130\u001b[0m     batch_size\u001b[38;5;241m=\u001b[39m\u001b[38;5;241m32\u001b[39m,\n\u001b[0;32m    131\u001b[0m     callbacks\u001b[38;5;241m=\u001b[39m[early_stopping],\n\u001b[0;32m    132\u001b[0m     verbose\u001b[38;5;241m=\u001b[39m\u001b[38;5;241m0\u001b[39m\n\u001b[0;32m    133\u001b[0m )\n\u001b[0;32m    135\u001b[0m \u001b[38;5;66;03m# Avaliar\u001b[39;00m\n\u001b[0;32m    136\u001b[0m y_pred_scaled \u001b[38;5;241m=\u001b[39m model\u001b[38;5;241m.\u001b[39mpredict(X_test_scaled)\n",
      "File \u001b[1;32mc:\\Users\\leona\\anaconda3\\envs\\ambiente\\Lib\\site-packages\\keras\\src\\utils\\traceback_utils.py:117\u001b[0m, in \u001b[0;36mfilter_traceback.<locals>.error_handler\u001b[1;34m(*args, **kwargs)\u001b[0m\n\u001b[0;32m    115\u001b[0m filtered_tb \u001b[38;5;241m=\u001b[39m \u001b[38;5;28;01mNone\u001b[39;00m\n\u001b[0;32m    116\u001b[0m \u001b[38;5;28;01mtry\u001b[39;00m:\n\u001b[1;32m--> 117\u001b[0m     \u001b[38;5;28;01mreturn\u001b[39;00m fn(\u001b[38;5;241m*\u001b[39margs, \u001b[38;5;241m*\u001b[39m\u001b[38;5;241m*\u001b[39mkwargs)\n\u001b[0;32m    118\u001b[0m \u001b[38;5;28;01mexcept\u001b[39;00m \u001b[38;5;167;01mException\u001b[39;00m \u001b[38;5;28;01mas\u001b[39;00m e:\n\u001b[0;32m    119\u001b[0m     filtered_tb \u001b[38;5;241m=\u001b[39m _process_traceback_frames(e\u001b[38;5;241m.\u001b[39m__traceback__)\n",
      "File \u001b[1;32mc:\\Users\\leona\\anaconda3\\envs\\ambiente\\Lib\\site-packages\\keras\\src\\backend\\tensorflow\\trainer.py:343\u001b[0m, in \u001b[0;36mTensorFlowTrainer.fit\u001b[1;34m(self, x, y, batch_size, epochs, verbose, callbacks, validation_split, validation_data, shuffle, class_weight, sample_weight, initial_epoch, steps_per_epoch, validation_steps, validation_batch_size, validation_freq)\u001b[0m\n\u001b[0;32m    332\u001b[0m \u001b[38;5;28;01mif\u001b[39;00m \u001b[38;5;28mgetattr\u001b[39m(\u001b[38;5;28mself\u001b[39m, \u001b[38;5;124m\"\u001b[39m\u001b[38;5;124m_eval_epoch_iterator\u001b[39m\u001b[38;5;124m\"\u001b[39m, \u001b[38;5;28;01mNone\u001b[39;00m) \u001b[38;5;129;01mis\u001b[39;00m \u001b[38;5;28;01mNone\u001b[39;00m:\n\u001b[0;32m    333\u001b[0m     \u001b[38;5;28mself\u001b[39m\u001b[38;5;241m.\u001b[39m_eval_epoch_iterator \u001b[38;5;241m=\u001b[39m TFEpochIterator(\n\u001b[0;32m    334\u001b[0m         x\u001b[38;5;241m=\u001b[39mval_x,\n\u001b[0;32m    335\u001b[0m         y\u001b[38;5;241m=\u001b[39mval_y,\n\u001b[1;32m   (...)\u001b[0m\n\u001b[0;32m    341\u001b[0m         shuffle\u001b[38;5;241m=\u001b[39m\u001b[38;5;28;01mFalse\u001b[39;00m,\n\u001b[0;32m    342\u001b[0m     )\n\u001b[1;32m--> 343\u001b[0m val_logs \u001b[38;5;241m=\u001b[39m \u001b[38;5;28mself\u001b[39m\u001b[38;5;241m.\u001b[39mevaluate(\n\u001b[0;32m    344\u001b[0m     x\u001b[38;5;241m=\u001b[39mval_x,\n\u001b[0;32m    345\u001b[0m     y\u001b[38;5;241m=\u001b[39mval_y,\n\u001b[0;32m    346\u001b[0m     sample_weight\u001b[38;5;241m=\u001b[39mval_sample_weight,\n\u001b[0;32m    347\u001b[0m     batch_size\u001b[38;5;241m=\u001b[39mvalidation_batch_size \u001b[38;5;129;01mor\u001b[39;00m batch_size,\n\u001b[0;32m    348\u001b[0m     steps\u001b[38;5;241m=\u001b[39mvalidation_steps,\n\u001b[0;32m    349\u001b[0m     callbacks\u001b[38;5;241m=\u001b[39mcallbacks,\n\u001b[0;32m    350\u001b[0m     return_dict\u001b[38;5;241m=\u001b[39m\u001b[38;5;28;01mTrue\u001b[39;00m,\n\u001b[0;32m    351\u001b[0m     _use_cached_eval_dataset\u001b[38;5;241m=\u001b[39m\u001b[38;5;28;01mTrue\u001b[39;00m,\n\u001b[0;32m    352\u001b[0m )\n\u001b[0;32m    353\u001b[0m val_logs \u001b[38;5;241m=\u001b[39m {\n\u001b[0;32m    354\u001b[0m     \u001b[38;5;124m\"\u001b[39m\u001b[38;5;124mval_\u001b[39m\u001b[38;5;124m\"\u001b[39m \u001b[38;5;241m+\u001b[39m name: val \u001b[38;5;28;01mfor\u001b[39;00m name, val \u001b[38;5;129;01min\u001b[39;00m val_logs\u001b[38;5;241m.\u001b[39mitems()\n\u001b[0;32m    355\u001b[0m }\n\u001b[0;32m    356\u001b[0m epoch_logs\u001b[38;5;241m.\u001b[39mupdate(val_logs)\n",
      "File \u001b[1;32mc:\\Users\\leona\\anaconda3\\envs\\ambiente\\Lib\\site-packages\\keras\\src\\utils\\traceback_utils.py:117\u001b[0m, in \u001b[0;36mfilter_traceback.<locals>.error_handler\u001b[1;34m(*args, **kwargs)\u001b[0m\n\u001b[0;32m    115\u001b[0m filtered_tb \u001b[38;5;241m=\u001b[39m \u001b[38;5;28;01mNone\u001b[39;00m\n\u001b[0;32m    116\u001b[0m \u001b[38;5;28;01mtry\u001b[39;00m:\n\u001b[1;32m--> 117\u001b[0m     \u001b[38;5;28;01mreturn\u001b[39;00m fn(\u001b[38;5;241m*\u001b[39margs, \u001b[38;5;241m*\u001b[39m\u001b[38;5;241m*\u001b[39mkwargs)\n\u001b[0;32m    118\u001b[0m \u001b[38;5;28;01mexcept\u001b[39;00m \u001b[38;5;167;01mException\u001b[39;00m \u001b[38;5;28;01mas\u001b[39;00m e:\n\u001b[0;32m    119\u001b[0m     filtered_tb \u001b[38;5;241m=\u001b[39m _process_traceback_frames(e\u001b[38;5;241m.\u001b[39m__traceback__)\n",
      "File \u001b[1;32mc:\\Users\\leona\\anaconda3\\envs\\ambiente\\Lib\\site-packages\\keras\\src\\backend\\tensorflow\\trainer.py:429\u001b[0m, in \u001b[0;36mTensorFlowTrainer.evaluate\u001b[1;34m(self, x, y, batch_size, verbose, sample_weight, steps, callbacks, return_dict, **kwargs)\u001b[0m\n\u001b[0;32m    427\u001b[0m \u001b[38;5;28;01mfor\u001b[39;00m step, iterator \u001b[38;5;129;01min\u001b[39;00m epoch_iterator\u001b[38;5;241m.\u001b[39menumerate_epoch():\n\u001b[0;32m    428\u001b[0m     callbacks\u001b[38;5;241m.\u001b[39mon_test_batch_begin(step)\n\u001b[1;32m--> 429\u001b[0m     logs \u001b[38;5;241m=\u001b[39m \u001b[38;5;28mself\u001b[39m\u001b[38;5;241m.\u001b[39mtest_function(iterator)\n\u001b[0;32m    430\u001b[0m     logs \u001b[38;5;241m=\u001b[39m \u001b[38;5;28mself\u001b[39m\u001b[38;5;241m.\u001b[39m_pythonify_logs(logs)\n\u001b[0;32m    431\u001b[0m     callbacks\u001b[38;5;241m.\u001b[39mon_test_batch_end(step, logs)\n",
      "File \u001b[1;32mc:\\Users\\leona\\anaconda3\\envs\\ambiente\\Lib\\site-packages\\tensorflow\\python\\util\\traceback_utils.py:150\u001b[0m, in \u001b[0;36mfilter_traceback.<locals>.error_handler\u001b[1;34m(*args, **kwargs)\u001b[0m\n\u001b[0;32m    148\u001b[0m filtered_tb \u001b[38;5;241m=\u001b[39m \u001b[38;5;28;01mNone\u001b[39;00m\n\u001b[0;32m    149\u001b[0m \u001b[38;5;28;01mtry\u001b[39;00m:\n\u001b[1;32m--> 150\u001b[0m   \u001b[38;5;28;01mreturn\u001b[39;00m fn(\u001b[38;5;241m*\u001b[39margs, \u001b[38;5;241m*\u001b[39m\u001b[38;5;241m*\u001b[39mkwargs)\n\u001b[0;32m    151\u001b[0m \u001b[38;5;28;01mexcept\u001b[39;00m \u001b[38;5;167;01mException\u001b[39;00m \u001b[38;5;28;01mas\u001b[39;00m e:\n\u001b[0;32m    152\u001b[0m   filtered_tb \u001b[38;5;241m=\u001b[39m _process_traceback_frames(e\u001b[38;5;241m.\u001b[39m__traceback__)\n",
      "File \u001b[1;32mc:\\Users\\leona\\anaconda3\\envs\\ambiente\\Lib\\site-packages\\tensorflow\\python\\eager\\polymorphic_function\\polymorphic_function.py:833\u001b[0m, in \u001b[0;36mFunction.__call__\u001b[1;34m(self, *args, **kwds)\u001b[0m\n\u001b[0;32m    830\u001b[0m compiler \u001b[38;5;241m=\u001b[39m \u001b[38;5;124m\"\u001b[39m\u001b[38;5;124mxla\u001b[39m\u001b[38;5;124m\"\u001b[39m \u001b[38;5;28;01mif\u001b[39;00m \u001b[38;5;28mself\u001b[39m\u001b[38;5;241m.\u001b[39m_jit_compile \u001b[38;5;28;01melse\u001b[39;00m \u001b[38;5;124m\"\u001b[39m\u001b[38;5;124mnonXla\u001b[39m\u001b[38;5;124m\"\u001b[39m\n\u001b[0;32m    832\u001b[0m \u001b[38;5;28;01mwith\u001b[39;00m OptionalXlaContext(\u001b[38;5;28mself\u001b[39m\u001b[38;5;241m.\u001b[39m_jit_compile):\n\u001b[1;32m--> 833\u001b[0m   result \u001b[38;5;241m=\u001b[39m \u001b[38;5;28mself\u001b[39m\u001b[38;5;241m.\u001b[39m_call(\u001b[38;5;241m*\u001b[39margs, \u001b[38;5;241m*\u001b[39m\u001b[38;5;241m*\u001b[39mkwds)\n\u001b[0;32m    835\u001b[0m new_tracing_count \u001b[38;5;241m=\u001b[39m \u001b[38;5;28mself\u001b[39m\u001b[38;5;241m.\u001b[39mexperimental_get_tracing_count()\n\u001b[0;32m    836\u001b[0m without_tracing \u001b[38;5;241m=\u001b[39m (tracing_count \u001b[38;5;241m==\u001b[39m new_tracing_count)\n",
      "File \u001b[1;32mc:\\Users\\leona\\anaconda3\\envs\\ambiente\\Lib\\site-packages\\tensorflow\\python\\eager\\polymorphic_function\\polymorphic_function.py:878\u001b[0m, in \u001b[0;36mFunction._call\u001b[1;34m(self, *args, **kwds)\u001b[0m\n\u001b[0;32m    875\u001b[0m \u001b[38;5;28mself\u001b[39m\u001b[38;5;241m.\u001b[39m_lock\u001b[38;5;241m.\u001b[39mrelease()\n\u001b[0;32m    876\u001b[0m \u001b[38;5;66;03m# In this case we have not created variables on the first call. So we can\u001b[39;00m\n\u001b[0;32m    877\u001b[0m \u001b[38;5;66;03m# run the first trace but we should fail if variables are created.\u001b[39;00m\n\u001b[1;32m--> 878\u001b[0m results \u001b[38;5;241m=\u001b[39m tracing_compilation\u001b[38;5;241m.\u001b[39mcall_function(\n\u001b[0;32m    879\u001b[0m     args, kwds, \u001b[38;5;28mself\u001b[39m\u001b[38;5;241m.\u001b[39m_variable_creation_config\n\u001b[0;32m    880\u001b[0m )\n\u001b[0;32m    881\u001b[0m \u001b[38;5;28;01mif\u001b[39;00m \u001b[38;5;28mself\u001b[39m\u001b[38;5;241m.\u001b[39m_created_variables:\n\u001b[0;32m    882\u001b[0m   \u001b[38;5;28;01mraise\u001b[39;00m \u001b[38;5;167;01mValueError\u001b[39;00m(\u001b[38;5;124m\"\u001b[39m\u001b[38;5;124mCreating variables on a non-first call to a function\u001b[39m\u001b[38;5;124m\"\u001b[39m\n\u001b[0;32m    883\u001b[0m                    \u001b[38;5;124m\"\u001b[39m\u001b[38;5;124m decorated with tf.function.\u001b[39m\u001b[38;5;124m\"\u001b[39m)\n",
      "File \u001b[1;32mc:\\Users\\leona\\anaconda3\\envs\\ambiente\\Lib\\site-packages\\tensorflow\\python\\eager\\polymorphic_function\\tracing_compilation.py:139\u001b[0m, in \u001b[0;36mcall_function\u001b[1;34m(args, kwargs, tracing_options)\u001b[0m\n\u001b[0;32m    137\u001b[0m bound_args \u001b[38;5;241m=\u001b[39m function\u001b[38;5;241m.\u001b[39mfunction_type\u001b[38;5;241m.\u001b[39mbind(\u001b[38;5;241m*\u001b[39margs, \u001b[38;5;241m*\u001b[39m\u001b[38;5;241m*\u001b[39mkwargs)\n\u001b[0;32m    138\u001b[0m flat_inputs \u001b[38;5;241m=\u001b[39m function\u001b[38;5;241m.\u001b[39mfunction_type\u001b[38;5;241m.\u001b[39munpack_inputs(bound_args)\n\u001b[1;32m--> 139\u001b[0m \u001b[38;5;28;01mreturn\u001b[39;00m function\u001b[38;5;241m.\u001b[39m_call_flat(  \u001b[38;5;66;03m# pylint: disable=protected-access\u001b[39;00m\n\u001b[0;32m    140\u001b[0m     flat_inputs, captured_inputs\u001b[38;5;241m=\u001b[39mfunction\u001b[38;5;241m.\u001b[39mcaptured_inputs\n\u001b[0;32m    141\u001b[0m )\n",
      "File \u001b[1;32mc:\\Users\\leona\\anaconda3\\envs\\ambiente\\Lib\\site-packages\\tensorflow\\python\\eager\\polymorphic_function\\concrete_function.py:1322\u001b[0m, in \u001b[0;36mConcreteFunction._call_flat\u001b[1;34m(self, tensor_inputs, captured_inputs)\u001b[0m\n\u001b[0;32m   1318\u001b[0m possible_gradient_type \u001b[38;5;241m=\u001b[39m gradients_util\u001b[38;5;241m.\u001b[39mPossibleTapeGradientTypes(args)\n\u001b[0;32m   1319\u001b[0m \u001b[38;5;28;01mif\u001b[39;00m (possible_gradient_type \u001b[38;5;241m==\u001b[39m gradients_util\u001b[38;5;241m.\u001b[39mPOSSIBLE_GRADIENT_TYPES_NONE\n\u001b[0;32m   1320\u001b[0m     \u001b[38;5;129;01mand\u001b[39;00m executing_eagerly):\n\u001b[0;32m   1321\u001b[0m   \u001b[38;5;66;03m# No tape is watching; skip to running the function.\u001b[39;00m\n\u001b[1;32m-> 1322\u001b[0m   \u001b[38;5;28;01mreturn\u001b[39;00m \u001b[38;5;28mself\u001b[39m\u001b[38;5;241m.\u001b[39m_inference_function\u001b[38;5;241m.\u001b[39mcall_preflattened(args)\n\u001b[0;32m   1323\u001b[0m forward_backward \u001b[38;5;241m=\u001b[39m \u001b[38;5;28mself\u001b[39m\u001b[38;5;241m.\u001b[39m_select_forward_and_backward_functions(\n\u001b[0;32m   1324\u001b[0m     args,\n\u001b[0;32m   1325\u001b[0m     possible_gradient_type,\n\u001b[0;32m   1326\u001b[0m     executing_eagerly)\n\u001b[0;32m   1327\u001b[0m forward_function, args_with_tangents \u001b[38;5;241m=\u001b[39m forward_backward\u001b[38;5;241m.\u001b[39mforward()\n",
      "File \u001b[1;32mc:\\Users\\leona\\anaconda3\\envs\\ambiente\\Lib\\site-packages\\tensorflow\\python\\eager\\polymorphic_function\\atomic_function.py:216\u001b[0m, in \u001b[0;36mAtomicFunction.call_preflattened\u001b[1;34m(self, args)\u001b[0m\n\u001b[0;32m    214\u001b[0m \u001b[38;5;28;01mdef\u001b[39;00m \u001b[38;5;21mcall_preflattened\u001b[39m(\u001b[38;5;28mself\u001b[39m, args: Sequence[core\u001b[38;5;241m.\u001b[39mTensor]) \u001b[38;5;241m-\u001b[39m\u001b[38;5;241m>\u001b[39m Any:\n\u001b[0;32m    215\u001b[0m \u001b[38;5;250m  \u001b[39m\u001b[38;5;124;03m\"\"\"Calls with flattened tensor inputs and returns the structured output.\"\"\"\u001b[39;00m\n\u001b[1;32m--> 216\u001b[0m   flat_outputs \u001b[38;5;241m=\u001b[39m \u001b[38;5;28mself\u001b[39m\u001b[38;5;241m.\u001b[39mcall_flat(\u001b[38;5;241m*\u001b[39margs)\n\u001b[0;32m    217\u001b[0m   \u001b[38;5;28;01mreturn\u001b[39;00m \u001b[38;5;28mself\u001b[39m\u001b[38;5;241m.\u001b[39mfunction_type\u001b[38;5;241m.\u001b[39mpack_output(flat_outputs)\n",
      "File \u001b[1;32mc:\\Users\\leona\\anaconda3\\envs\\ambiente\\Lib\\site-packages\\tensorflow\\python\\eager\\polymorphic_function\\atomic_function.py:251\u001b[0m, in \u001b[0;36mAtomicFunction.call_flat\u001b[1;34m(self, *args)\u001b[0m\n\u001b[0;32m    249\u001b[0m \u001b[38;5;28;01mwith\u001b[39;00m record\u001b[38;5;241m.\u001b[39mstop_recording():\n\u001b[0;32m    250\u001b[0m   \u001b[38;5;28;01mif\u001b[39;00m \u001b[38;5;28mself\u001b[39m\u001b[38;5;241m.\u001b[39m_bound_context\u001b[38;5;241m.\u001b[39mexecuting_eagerly():\n\u001b[1;32m--> 251\u001b[0m     outputs \u001b[38;5;241m=\u001b[39m \u001b[38;5;28mself\u001b[39m\u001b[38;5;241m.\u001b[39m_bound_context\u001b[38;5;241m.\u001b[39mcall_function(\n\u001b[0;32m    252\u001b[0m         \u001b[38;5;28mself\u001b[39m\u001b[38;5;241m.\u001b[39mname,\n\u001b[0;32m    253\u001b[0m         \u001b[38;5;28mlist\u001b[39m(args),\n\u001b[0;32m    254\u001b[0m         \u001b[38;5;28mlen\u001b[39m(\u001b[38;5;28mself\u001b[39m\u001b[38;5;241m.\u001b[39mfunction_type\u001b[38;5;241m.\u001b[39mflat_outputs),\n\u001b[0;32m    255\u001b[0m     )\n\u001b[0;32m    256\u001b[0m   \u001b[38;5;28;01melse\u001b[39;00m:\n\u001b[0;32m    257\u001b[0m     outputs \u001b[38;5;241m=\u001b[39m make_call_op_in_graph(\n\u001b[0;32m    258\u001b[0m         \u001b[38;5;28mself\u001b[39m,\n\u001b[0;32m    259\u001b[0m         \u001b[38;5;28mlist\u001b[39m(args),\n\u001b[0;32m    260\u001b[0m         \u001b[38;5;28mself\u001b[39m\u001b[38;5;241m.\u001b[39m_bound_context\u001b[38;5;241m.\u001b[39mfunction_call_options\u001b[38;5;241m.\u001b[39mas_attrs(),\n\u001b[0;32m    261\u001b[0m     )\n",
      "File \u001b[1;32mc:\\Users\\leona\\anaconda3\\envs\\ambiente\\Lib\\site-packages\\tensorflow\\python\\eager\\context.py:1552\u001b[0m, in \u001b[0;36mContext.call_function\u001b[1;34m(self, name, tensor_inputs, num_outputs)\u001b[0m\n\u001b[0;32m   1550\u001b[0m cancellation_context \u001b[38;5;241m=\u001b[39m cancellation\u001b[38;5;241m.\u001b[39mcontext()\n\u001b[0;32m   1551\u001b[0m \u001b[38;5;28;01mif\u001b[39;00m cancellation_context \u001b[38;5;129;01mis\u001b[39;00m \u001b[38;5;28;01mNone\u001b[39;00m:\n\u001b[1;32m-> 1552\u001b[0m   outputs \u001b[38;5;241m=\u001b[39m execute\u001b[38;5;241m.\u001b[39mexecute(\n\u001b[0;32m   1553\u001b[0m       name\u001b[38;5;241m.\u001b[39mdecode(\u001b[38;5;124m\"\u001b[39m\u001b[38;5;124mutf-8\u001b[39m\u001b[38;5;124m\"\u001b[39m),\n\u001b[0;32m   1554\u001b[0m       num_outputs\u001b[38;5;241m=\u001b[39mnum_outputs,\n\u001b[0;32m   1555\u001b[0m       inputs\u001b[38;5;241m=\u001b[39mtensor_inputs,\n\u001b[0;32m   1556\u001b[0m       attrs\u001b[38;5;241m=\u001b[39mattrs,\n\u001b[0;32m   1557\u001b[0m       ctx\u001b[38;5;241m=\u001b[39m\u001b[38;5;28mself\u001b[39m,\n\u001b[0;32m   1558\u001b[0m   )\n\u001b[0;32m   1559\u001b[0m \u001b[38;5;28;01melse\u001b[39;00m:\n\u001b[0;32m   1560\u001b[0m   outputs \u001b[38;5;241m=\u001b[39m execute\u001b[38;5;241m.\u001b[39mexecute_with_cancellation(\n\u001b[0;32m   1561\u001b[0m       name\u001b[38;5;241m.\u001b[39mdecode(\u001b[38;5;124m\"\u001b[39m\u001b[38;5;124mutf-8\u001b[39m\u001b[38;5;124m\"\u001b[39m),\n\u001b[0;32m   1562\u001b[0m       num_outputs\u001b[38;5;241m=\u001b[39mnum_outputs,\n\u001b[1;32m   (...)\u001b[0m\n\u001b[0;32m   1566\u001b[0m       cancellation_manager\u001b[38;5;241m=\u001b[39mcancellation_context,\n\u001b[0;32m   1567\u001b[0m   )\n",
      "File \u001b[1;32mc:\\Users\\leona\\anaconda3\\envs\\ambiente\\Lib\\site-packages\\tensorflow\\python\\eager\\execute.py:53\u001b[0m, in \u001b[0;36mquick_execute\u001b[1;34m(op_name, num_outputs, inputs, attrs, ctx, name)\u001b[0m\n\u001b[0;32m     51\u001b[0m \u001b[38;5;28;01mtry\u001b[39;00m:\n\u001b[0;32m     52\u001b[0m   ctx\u001b[38;5;241m.\u001b[39mensure_initialized()\n\u001b[1;32m---> 53\u001b[0m   tensors \u001b[38;5;241m=\u001b[39m pywrap_tfe\u001b[38;5;241m.\u001b[39mTFE_Py_Execute(ctx\u001b[38;5;241m.\u001b[39m_handle, device_name, op_name,\n\u001b[0;32m     54\u001b[0m                                       inputs, attrs, num_outputs)\n\u001b[0;32m     55\u001b[0m \u001b[38;5;28;01mexcept\u001b[39;00m core\u001b[38;5;241m.\u001b[39m_NotOkStatusException \u001b[38;5;28;01mas\u001b[39;00m e:\n\u001b[0;32m     56\u001b[0m   \u001b[38;5;28;01mif\u001b[39;00m name \u001b[38;5;129;01mis\u001b[39;00m \u001b[38;5;129;01mnot\u001b[39;00m \u001b[38;5;28;01mNone\u001b[39;00m:\n",
      "\u001b[1;31mKeyboardInterrupt\u001b[0m: "
     ]
    }
   ],
   "source": [
    "import pandas as pd\n",
    "import numpy as np\n",
    "import matplotlib.pyplot as plt\n",
    "import os\n",
    "from sklearn.preprocessing import StandardScaler\n",
    "from sklearn.metrics import mean_squared_error\n",
    "import shap\n",
    "import tensorflow as tf\n",
    "from tensorflow import keras\n",
    "from tensorflow.keras import layers\n",
    "\n",
    "def carregar_dados_ticker(ticker, pasta_dados):\n",
    "    \"\"\"Carrega dados de um ticker com foco nas features macro e micro\"\"\"\n",
    "    arquivo = f\"{pasta_dados}/{ticker}_dados_macro_micro.csv\"\n",
    "    \n",
    "    if not os.path.exists(arquivo):\n",
    "        print(f\"Arquivo não encontrado: {arquivo}\")\n",
    "        return None, None, None\n",
    "    \n",
    "    # Carregar dados\n",
    "    try:\n",
    "        df = pd.read_csv(arquivo, index_col=0)\n",
    "        df.index = pd.to_datetime(df.index)\n",
    "    except Exception as e:\n",
    "        print(f\"Erro ao carregar {arquivo}: {e}\")\n",
    "        return None, None, None\n",
    "    \n",
    "    # Identificar target\n",
    "    target_col = None\n",
    "    if 'Close_Target' in df.columns:\n",
    "        target_col = 'Close_Target'\n",
    "    elif 'Preço' in df.columns:\n",
    "        target_col = 'Preço'\n",
    "    else:\n",
    "        print(f\"Erro: Nenhuma coluna target encontrada para {ticker}\")\n",
    "        return None, None, None\n",
    "    \n",
    "    # Separar features em macro e micro\n",
    "    macro_cols = [col for col in df.columns if col in ['TaxaCambio', 'Selic', 'PIB', 'IPCA']]\n",
    "    micro_cols = [col for col in df.columns if col in ['ROA', 'ROE', 'Margem Líquida', 'P/L', 'VP']]\n",
    "    price_col = [col for col in df.columns if col in ['Close_Feature', 'Preço_anterior']]\n",
    "    \n",
    "    # Todos os conjuntos de features\n",
    "    feature_sets = {\n",
    "        'price_only': price_col,\n",
    "        'macro_only': macro_cols,\n",
    "        'micro_only': micro_cols,\n",
    "        'price_macro': price_col + macro_cols,\n",
    "        'price_micro': price_col + micro_cols,\n",
    "        'macro_micro': macro_cols + micro_cols,\n",
    "        'all': price_col + macro_cols + micro_cols\n",
    "    }\n",
    "    \n",
    "    # Filtrar conjuntos vazios e remover duplicatas\n",
    "    feature_sets = {k: list(set(v)) for k, v in feature_sets.items() if v}\n",
    "    \n",
    "    return df, feature_sets, target_col\n",
    "\n",
    "def construir_modelo_simples(input_shape):\n",
    "    \"\"\"Constrói um modelo simples para análise de importância de features\"\"\"\n",
    "    model = keras.Sequential([\n",
    "        layers.Dense(64, activation='relu', input_shape=input_shape),\n",
    "        layers.Dropout(0.2),\n",
    "        layers.Dense(32, activation='relu'),\n",
    "        layers.Dropout(0.1),\n",
    "        layers.Dense(1)\n",
    "    ])\n",
    "    model.compile(optimizer='adam', loss='mse')\n",
    "    return model\n",
    "\n",
    "def calcular_importancia_shap(model, X_background, X_test):\n",
    "    \"\"\"Calcula valores SHAP para entender importância de features\"\"\"\n",
    "    explainer = shap.DeepExplainer(model, X_background)\n",
    "    shap_values = explainer.shap_values(X_test)\n",
    "    return shap_values[0]  # Para modelos com uma saída\n",
    "\n",
    "def comparar_conjuntos_features(ticker, df, feature_sets, target_col):\n",
    "    \"\"\"Compara desempenho de diferentes conjuntos de features\"\"\"\n",
    "    # Dividir dados (treino/teste)\n",
    "    split_date = \"2023-01-01\"\n",
    "    df_train = df.loc[:split_date].copy()\n",
    "    df_test = df.loc[split_date:].copy()\n",
    "    \n",
    "    if df_train.empty or df_test.empty:\n",
    "        print(f\"Erro: Divisão treino/teste resultou em conjunto vazio para {ticker}\")\n",
    "        return None\n",
    "    \n",
    "    # Resultados\n",
    "    resultados = {}\n",
    "    importancias = {}\n",
    "    \n",
    "    for set_name, features in feature_sets.items():\n",
    "        print(f\"\\nAvaliando {ticker} com conjunto {set_name}: {features}\")\n",
    "        \n",
    "        # Verificar se temos dados suficientes\n",
    "        if any(col not in df.columns for col in features):\n",
    "            print(f\"  Pulando {set_name}: faltam colunas\")\n",
    "            continue\n",
    "            \n",
    "        # Preparar dados\n",
    "        X_train = df_train[features].values\n",
    "        y_train = df_train[target_col].values\n",
    "        \n",
    "        X_test = df_test[features].values\n",
    "        y_test = df_test[target_col].values\n",
    "        \n",
    "        # Escalonar\n",
    "        scaler_X = StandardScaler()\n",
    "        scaler_y = StandardScaler()\n",
    "        \n",
    "        X_train_scaled = scaler_X.fit_transform(X_train)\n",
    "        y_train_scaled = scaler_y.fit_transform(y_train.reshape(-1, 1)).flatten()\n",
    "        \n",
    "        X_test_scaled = scaler_X.transform(X_test)\n",
    "        y_test_scaled = scaler_y.transform(y_test.reshape(-1, 1)).flatten()\n",
    "        \n",
    "        # Construir e treinar modelo\n",
    "        input_shape = (X_train_scaled.shape[1],)\n",
    "        model = construir_modelo_simples(input_shape)\n",
    "        \n",
    "        early_stopping = tf.keras.callbacks.EarlyStopping(\n",
    "            monitor='val_loss', patience=10, restore_best_weights=True\n",
    "        )\n",
    "        \n",
    "        # Treinar com validação\n",
    "        history = model.fit(\n",
    "            X_train_scaled, y_train_scaled,\n",
    "            validation_split=0.2,\n",
    "            epochs=100,\n",
    "            batch_size=32,\n",
    "            callbacks=[early_stopping],\n",
    "            verbose=0\n",
    "        )\n",
    "        \n",
    "        # Avaliar\n",
    "        y_pred_scaled = model.predict(X_test_scaled)\n",
    "        y_pred = scaler_y.inverse_transform(y_pred_scaled).flatten()\n",
    "        \n",
    "        rmse = np.sqrt(mean_squared_error(y_test, y_pred))\n",
    "        var_real = np.std(y_test) / np.mean(y_test) if np.mean(y_test) != 0 else 0\n",
    "        var_pred = np.std(y_pred) / np.mean(y_pred) if np.mean(y_pred) != 0 else 0\n",
    "        \n",
    "        resultados[set_name] = {\n",
    "            'RMSE': rmse,\n",
    "            'Var_Real': var_real,\n",
    "            'Var_Pred': var_pred,\n",
    "            'Prop_Var': var_pred / var_real if var_real != 0 else 0\n",
    "        }\n",
    "        \n",
    "        print(f\"  RMSE: {rmse:.4f}, Var Pred/Real: {resultados[set_name]['Prop_Var']:.4f}\")\n",
    "        \n",
    "        # Calcular importância das features (apenas para conjunto completo)\n",
    "        if set_name == 'all' and len(X_train_scaled) > 0:\n",
    "            try:\n",
    "                # Usar subset para SHAP (para economizar tempo)\n",
    "                background_indices = np.random.choice(X_train_scaled.shape[0], \n",
    "                                                     min(100, X_train_scaled.shape[0]), \n",
    "                                                     replace=False)\n",
    "                X_background = X_train_scaled[background_indices]\n",
    "                \n",
    "                test_indices = np.random.choice(X_test_scaled.shape[0], \n",
    "                                              min(50, X_test_scaled.shape[0]), \n",
    "                                              replace=False)\n",
    "                X_test_sample = X_test_scaled[test_indices]\n",
    "                \n",
    "                shap_values = calcular_importancia_shap(model, X_background, X_test_sample)\n",
    "                \n",
    "                # Média absoluta dos valores SHAP por feature\n",
    "                importancias_medias = np.abs(shap_values).mean(axis=0)\n",
    "                importancias = {features[i]: importancias_medias[i] for i in range(len(features))}\n",
    "                print(\"  Importância de features (SHAP):\")\n",
    "                for feat, imp in sorted(importancias.items(), key=lambda x: x[1], reverse=True):\n",
    "                    print(f\"    {feat}: {imp:.4f}\")\n",
    "            except Exception as e:\n",
    "                print(f\"  Erro ao calcular SHAP: {e}\")\n",
    "    \n",
    "    return resultados, importancias\n",
    "\n",
    "def plotar_resultados(ticker, resultados, importancias, output_dir):\n",
    "    \"\"\"Plota resultados da comparação de conjuntos de features\"\"\"\n",
    "    os.makedirs(output_dir, exist_ok=True)\n",
    "    \n",
    "    if not resultados:\n",
    "        print(f\"Sem resultados para plotar para {ticker}\")\n",
    "        return\n",
    "    \n",
    "    # 1. Gráfico de RMSE por conjunto de features\n",
    "    plt.figure(figsize=(10, 6))\n",
    "    sets = list(resultados.keys())\n",
    "    rmse_values = [resultados[s]['RMSE'] for s in sets]\n",
    "    \n",
    "    # Ordenar do melhor para o pior\n",
    "    sorted_indices = np.argsort(rmse_values)\n",
    "    sorted_sets = [sets[i] for i in sorted_indices]\n",
    "    sorted_rmse = [rmse_values[i] for i in sorted_indices]\n",
    "    \n",
    "    # Plotar barras\n",
    "    bars = plt.bar(sorted_sets, sorted_rmse)\n",
    "    \n",
    "    # Colorir barras por tipo\n",
    "    colors = {'price_only': 'gray', 'macro_only': 'blue', 'micro_only': 'green', \n",
    "              'price_macro': 'lightblue', 'price_micro': 'lightgreen', \n",
    "              'macro_micro': 'purple', 'all': 'orange'}\n",
    "    \n",
    "    for i, set_name in enumerate(sorted_sets):\n",
    "        if set_name in colors:\n",
    "            bars[i].set_color(colors[set_name])\n",
    "    \n",
    "    plt.title(f'RMSE por Conjunto de Features - {ticker}')\n",
    "    plt.ylabel('RMSE (menor é melhor)')\n",
    "    plt.xticks(rotation=45)\n",
    "    plt.tight_layout()\n",
    "    plt.savefig(f\"{output_dir}/{ticker}_rmse_by_feature_set.png\")\n",
    "    plt.close()\n",
    "    \n",
    "    # 2. Gráfico de proporção de variação (quanto as previsões capturam da variação real)\n",
    "    plt.figure(figsize=(10, 6))\n",
    "    prop_var_values = [resultados[s]['Prop_Var'] for s in sets]\n",
    "    \n",
    "    # Ordenar do melhor (maior proporção) para o pior\n",
    "    sorted_indices_var = np.argsort(prop_var_values)[::-1]  # Inverter para ter descendente\n",
    "    sorted_sets_var = [sets[i] for i in sorted_indices_var]\n",
    "    sorted_prop_var = [prop_var_values[i] for i in sorted_indices_var]\n",
    "    \n",
    "    # Plotar barras\n",
    "    bars_var = plt.bar(sorted_sets_var, sorted_prop_var)\n",
    "    \n",
    "    # Colorir barras por tipo\n",
    "    for i, set_name in enumerate(sorted_sets_var):\n",
    "        if set_name in colors:\n",
    "            bars_var[i].set_color(colors[set_name])\n",
    "    \n",
    "    # Linha de referência: 100% da variação real\n",
    "    plt.axhline(y=1.0, color='r', linestyle='--', alpha=0.6)\n",
    "    \n",
    "    plt.title(f'Proporção de Variação Capturada - {ticker}')\n",
    "    plt.ylabel('Variação Prevista / Variação Real')\n",
    "    plt.xticks(rotation=45)\n",
    "    plt.tight_layout()\n",
    "    plt.savefig(f\"{output_dir}/{ticker}_variation_proportion_by_feature_set.png\")\n",
    "    plt.close()\n",
    "    \n",
    "    # 3. Gráfico de importância das features (SHAP)\n",
    "    if importancias:\n",
    "        plt.figure(figsize=(10, 6))\n",
    "        features = list(importancias.keys())\n",
    "        importance_values = list(importancias.values())\n",
    "        \n",
    "        # Ordenar por importância\n",
    "        sorted_indices_imp = np.argsort(importance_values)\n",
    "        sorted_features = [features[i] for i in sorted_indices_imp]\n",
    "        sorted_importance = [importance_values[i] for i in sorted_indices_imp]\n",
    "        \n",
    "        # Definir cores por tipo de feature\n",
    "        bar_colors = []\n",
    "        for feature in sorted_features:\n",
    "            if feature in ['TaxaCambio', 'Selic', 'PIB', 'IPCA']:\n",
    "                bar_colors.append('blue')  # Macro\n",
    "            elif feature in ['ROA', 'ROE', 'Margem Líquida', 'P/L', 'VP']:\n",
    "                bar_colors.append('green')  # Micro\n",
    "            else:\n",
    "                bar_colors.append('gray')  # Preço\n",
    "        \n",
    "        # Plotar barras horizontais\n",
    "        bars_imp = plt.barh(sorted_features, sorted_importance, color=bar_colors)\n",
    "        \n",
    "        plt.title(f'Importância de Features (SHAP) - {ticker}')\n",
    "        plt.xlabel('Importância Relativa')\n",
    "        plt.tight_layout()\n",
    "        plt.savefig(f\"{output_dir}/{ticker}_feature_importance_shap.png\")\n",
    "        plt.close()\n",
    "\n",
    "def analisar_tickers():\n",
    "    \"\"\"Analisa a importância de features macro e micro para cada ticker\"\"\"\n",
    "    pasta_dados = r\"C:\\Users\\leona\\pyhtonscripts\\CodigoExperimentos\\ExperimentoFeatures\\dados_unificados\"\n",
    "    output_dir = r\"C:\\Users\\leona\\pyhtonscripts\\CodigoExperimentos\\ExperimentoFeatures\\comparacao_macromicro\"\n",
    "    os.makedirs(output_dir, exist_ok=True)\n",
    "    \n",
    "    tickers = [\"BEEF3.SA\", \"PETR4.SA\", \"SOJA3.SA\", \"GGBR3.SA\", \"CSNA3.SA\", \n",
    "               \"VALE3.SA\", \"JBSS3.SA\", \"BRFS3.SA\", \"SUZB3.SA\"]\n",
    "    \n",
    "    resultados_globais = []\n",
    "    \n",
    "    for ticker in tickers:\n",
    "        print(f\"\\n====== Analisando {ticker} ======\")\n",
    "        df, feature_sets, target_col = carregar_dados_ticker(ticker, pasta_dados)\n",
    "        \n",
    "        if df is None:\n",
    "            print(f\"Pulando {ticker} - dados não disponíveis\")\n",
    "            continue\n",
    "            \n",
    "        # Analisar e comparar conjuntos de features\n",
    "        resultados, importancias = comparar_conjuntos_features(ticker, df, feature_sets, target_col)\n",
    "        \n",
    "        if resultados:\n",
    "            # Armazenar resultados globais\n",
    "            for set_name, metrics in resultados.items():\n",
    "                resultados_globais.append({\n",
    "                    'Ticker': ticker,\n",
    "                    'Feature_Set': set_name, \n",
    "                    'RMSE': metrics['RMSE'],\n",
    "                    'Prop_Var': metrics['Prop_Var']\n",
    "                })\n",
    "            \n",
    "            # Plotar resultados específicos do ticker\n",
    "            plotar_resultados(ticker, resultados, importancias, output_dir)\n",
    "    \n",
    "    # Salvar resultados consolidados\n",
    "    if resultados_globais:\n",
    "        df_resultados = pd.DataFrame(resultados_globais)\n",
    "        df_resultados.to_csv(f\"{output_dir}/resultados_consolidados_macromicro.csv\", index=False)\n",
    "        \n",
    "        # Plotar comparação geral entre tipos de features\n",
    "        plt.figure(figsize=(14, 8))\n",
    "        \n",
    "        # Calcular mediana de RMSE por conjunto de features\n",
    "        mediana_por_conjunto = df_resultados.groupby('Feature_Set')['RMSE'].median()\n",
    "        mediana_por_conjunto = mediana_por_conjunto.sort_values()\n",
    "        \n",
    "        plt.bar(mediana_por_conjunto.index, mediana_por_conjunto.values)\n",
    "        plt.title('RMSE Mediano por Conjunto de Features (Todos Tickers)')\n",
    "        plt.ylabel('RMSE Mediano (menor é melhor)')\n",
    "        plt.xticks(rotation=45)\n",
    "        plt.tight_layout()\n",
    "        plt.savefig(f\"{output_dir}/comparacao_geral_rmse_por_feature_set.png\")\n",
    "        plt.close()\n",
    "\n",
    "if __name__ == \"__main__\":\n",
    "    print(\"Iniciando análise de importância de features macro/micro...\")\n",
    "    \n",
    "    # Reduzir verbosidade do TensorFlow\n",
    "    tf.get_logger().setLevel('ERROR')\n",
    "    \n",
    "    analisar_tickers()\n",
    "    \n",
    "    print(\"Análise concluída!\")\n"
   ]
  }
 ],
 "metadata": {
  "kernelspec": {
   "display_name": "ambiente",
   "language": "python",
   "name": "python3"
  },
  "language_info": {
   "codemirror_mode": {
    "name": "ipython",
    "version": 3
   },
   "file_extension": ".py",
   "mimetype": "text/x-python",
   "name": "python",
   "nbconvert_exporter": "python",
   "pygments_lexer": "ipython3",
   "version": "3.12.3"
  }
 },
 "nbformat": 4,
 "nbformat_minor": 5
}
