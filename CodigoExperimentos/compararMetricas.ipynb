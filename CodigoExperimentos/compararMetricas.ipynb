{
 "cells": [
  {
   "cell_type": "code",
   "execution_count": null,
   "metadata": {},
   "outputs": [
    {
     "name": "stdout",
     "output_type": "stream",
     "text": [
      "     Metric  With Keras Tuner  Without Keras Tuner  \\\n",
      "0   Avg MAE          0.218474             0.371016   \n",
      "1   Avg MSE          0.093436             0.271698   \n",
      "2  Avg RMSE          0.287537             0.466587   \n",
      "3    Avg R²          0.941840             0.868448   \n",
      "\n",
      "   With Keras Tuner Indicator  With Keras Tuner Indicator V2  \\\n",
      "0                    0.247660                       0.259268   \n",
      "1                    0.124335                       0.126722   \n",
      "2                    0.326859                       0.336990   \n",
      "3                    0.922823                       0.923962   \n",
      "\n",
      "   With Keras Tuner Indicator Micro  With Keras Tuner Indicator Macro  \n",
      "0                          0.181601                          0.666301  \n",
      "1                          0.065117                          0.897940  \n",
      "2                          0.241987                          0.894827  \n",
      "3                          0.959075                          0.969670  \n"
     ]
    }
   ],
   "source": [
    "import pandas as pd\n",
    "\n",
    "# Carregar os arquivos CSV\n",
    "df_tuner = pd.read_csv('C:\\\\Users\\\\leona\\\\pyhtonscripts\\\\ExperimentoNovos\\\\KfoldPetroTuner\\\\summary_model_performance_with_hyperparams.csv')\n",
    "df_tuner_indicator = pd.read_csv('C:\\\\Users\\\\leona\\\\pyhtonscripts\\\\ExperimentoNovos\\\\KfoldPetroTunerIndicatorV1\\\\summary_model_performance_with_hyperparams.csv')\n",
    "df_no_tuner = pd.read_csv('C:\\\\Users\\\\leona\\\\pyhtonscripts\\\\ExperimentoNovos\\\\KfoldPetro\\\\model_performance_all_kfold_avg.csv')\n",
    "df_tuner_indicator_v2 = pd.read_csv('C:\\\\Users\\\\leona\\\\pyhtonscripts\\\\ExperimentoNovos\\\\KfoldPetroTunerIndicatorV2\\\\summary_model_performance_with_hyperparams.csv')\n",
    "df_tuner_indicator_micro = pd.read_csv('C:\\\\Users\\\\leona\\\\pyhtonscripts\\\\ExperimentoNovos\\\\KfoldPetroTunerIndicatorV1Micro\\\\summary_model_performance_with_hyperparams (Micro).csv')  \n",
    "df_tuner_indicator_macro = pd.read_csv('C:\\\\Users\\\\leona\\\\pyhtonscripts\\\\ExperimentoNovos\\\\KfoldPetroTunerIndicatorV1Macro\\\\summary_model_performance_with_hyperparams (Macro).csv')\n",
    "\n",
    "# Calcular as médias das métricas para o arquivo com Keras Tuner\n",
    "mean_metrics_tuner = df_tuner[['Avg MAE', 'Avg MSE', 'Avg RMSE', 'Avg R²']].mean()\n",
    "\n",
    "# Calcular as médias das métricas para o arquivo sem Keras Tuner\n",
    "mean_metrics_no_tuner = df_no_tuner[['Avg MAE', 'Avg MSE', 'Avg RMSE', 'Avg R²']].mean()\n",
    "\n",
    "mean_metrics_tuner_indicator = df_tuner_indicator[['Avg MAE', 'Avg MSE', 'Avg RMSE', 'Avg R²']].mean()\n",
    "\n",
    "mean_metrics_tuner_indicator_v2 = df_tuner_indicator_v2[['Avg MAE', 'Avg MSE', 'Avg RMSE', 'Avg R²']].mean()\n",
    "\n",
    "mean_metrics_tuner_indicator_micro = df_tuner_indicator_micro[['Avg MAE', 'Avg MSE', 'Avg RMSE', 'Avg R²']].mean()\n",
    "\n",
    "mean_metrics_tuner_indicator_macro = df_tuner_indicator_macro[['Avg MAE', 'Avg MSE', 'Avg RMSE', 'Avg R²']].mean()\n",
    "\n",
    "# Comparar as médias das métricas\n",
    "comparison = pd.DataFrame({\n",
    "    'Metric': ['Avg MAE', 'Avg MSE', 'Avg RMSE', 'Avg R²'],\n",
    "    'With Keras Tuner': mean_metrics_tuner.values,\n",
    "    'Without Keras Tuner': mean_metrics_no_tuner.values,\n",
    "    'With Keras Tuner Indicator': mean_metrics_tuner_indicator.values,\n",
    "    'With Keras Tuner Indicator V2': mean_metrics_tuner_indicator_v2.values,\n",
    "    'With Keras Tuner Indicator Micro': mean_metrics_tuner_indicator_micro.values\t\n",
    "    \n",
    "})\n",
    "\n",
    "print(comparison)"
   ]
  }
 ],
 "metadata": {
  "kernelspec": {
   "display_name": "ambiente",
   "language": "python",
   "name": "python3"
  },
  "language_info": {
   "codemirror_mode": {
    "name": "ipython",
    "version": 3
   },
   "file_extension": ".py",
   "mimetype": "text/x-python",
   "name": "python",
   "nbconvert_exporter": "python",
   "pygments_lexer": "ipython3",
   "version": "3.12.3"
  }
 },
 "nbformat": 4,
 "nbformat_minor": 2
}
