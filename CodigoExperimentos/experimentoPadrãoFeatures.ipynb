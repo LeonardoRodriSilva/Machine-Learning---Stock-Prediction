{
 "cells": [
  {
   "cell_type": "code",
   "execution_count": 44,
   "metadata": {},
   "outputs": [],
   "source": [
    "import pandas as pd\n",
    "import numpy as np\n",
    "import yfinance as yfin\n",
    "from sklearn.preprocessing import MinMaxScaler\n",
    "from sklearn.metrics import mean_absolute_error, mean_squared_error, r2_score\n",
    "import matplotlib.pyplot as plt\n",
    "from tensorflow.keras.models import Sequential\n",
    "from tensorflow.keras.models import Model\n",
    "from tensorflow.keras.layers import LSTM, Dropout, Dense, Input, Concatenate\n",
    "import requests"
   ]
  },
  {
   "cell_type": "code",
   "execution_count": 45,
   "metadata": {},
   "outputs": [],
   "source": [
    "def getTaxaJuros(data_inicio, data_fim):\n",
    "    url = \"https://api.bcb.gov.br/dados/serie/bcdata.sgs.11/dados?formato=json\"\n",
    "    response = requests.get(url)\n",
    "    \n",
    "    if response.status_code == 200:\n",
    "        dados = response.json()\n",
    "        df = pd.DataFrame(dados)\n",
    "        df['data'] = pd.to_datetime(df['data'], dayfirst=True)\n",
    "        df['valor'] = df['valor'].astype(float)\n",
    "        \n",
    "        data_inicio = pd.to_datetime(data_inicio, dayfirst=True)\n",
    "        data_fim = pd.to_datetime(data_fim, dayfirst=True)\n",
    "        \n",
    "        df_filtrado = df[(df['data'] >= data_inicio) & (df['data'] <= data_fim)]\n",
    "        \n",
    "        return df_filtrado\n",
    "    else:\n",
    "        print(\"Erro ao acessar a API:\", response.status_code)\n",
    "        return None"
   ]
  },
  {
   "cell_type": "code",
   "execution_count": 46,
   "metadata": {},
   "outputs": [],
   "source": [
    "def carregarDados(ticker, data_inicio, data_fim):\n",
    "    df = yfin.download(tickers=ticker, start=data_inicio, end=data_fim)\n",
    "    return df"
   ]
  },
  {
   "cell_type": "code",
   "execution_count": 47,
   "metadata": {},
   "outputs": [],
   "source": [
    "def normalizar(df):\n",
    "    scaler = MinMaxScaler()\n",
    "    scaled_data = scaler.fit_transform(df['Adj Close'].values.reshape(-1, 1))\n",
    "    return scaled_data, scaler"
   ]
  },
  {
   "cell_type": "code",
   "execution_count": 48,
   "metadata": {},
   "outputs": [],
   "source": [
    "def prepararDados(df, days):\n",
    "    x_train = []\n",
    "    y_train = []\n",
    "    for i in range(days, len(df)):\n",
    "        x_train.append(df[i-days:i])\n",
    "        y_train.append(df[i])\n",
    "    return np.array(x_train), np.array(y_train)\n"
   ]
  },
  {
   "cell_type": "code",
   "execution_count": 49,
   "metadata": {},
   "outputs": [],
   "source": [
    "def prepararDadosAdicionais(df, days):\n",
    "    x_add_train = []\n",
    "    for i in range(days, len(df)):\n",
    "        x_add_train.append(df[i-days:i])\n",
    "    return np.array(x_add_train)"
   ]
  },
  {
   "cell_type": "code",
   "execution_count": 50,
   "metadata": {},
   "outputs": [],
   "source": [
    "def modeloLSTM(input_shape, additional_input_shape):\n",
    "    main_input = Input(shape=input_shape)\n",
    "    x = LSTM(units=50, return_sequences=True)(main_input)\n",
    "    x = Dropout(0.2)(x)\n",
    "    x = LSTM(units=50, return_sequences=True)(x)\n",
    "    x = Dropout(0.2)(x)\n",
    "    x = LSTM(units=50)(x)\n",
    "    x = Dropout(0.2)(x)\n",
    "    \n",
    "    additional_input = Input(shape=additional_input_shape)\n",
    "    \n",
    "    concatenated = Concatenate()([x, additional_input])\n",
    "    output = Dense(units=1)(concatenated)\n",
    "    \n",
    "    model = Model(inputs=[main_input, additional_input], outputs=output)\n",
    "    return model\n"
   ]
  },
  {
   "cell_type": "code",
   "execution_count": 51,
   "metadata": {},
   "outputs": [],
   "source": [
    "def treinarModelo(model, x_train, x_add_train, y_train, epochs=25, batch_size=32):\n",
    "    model.compile(optimizer='adam', loss='mean_squared_error')\n",
    "  \n",
    "    model.fit([x_train, x_add_train], y_train, epochs=epochs, batch_size=batch_size, verbose=1)\n",
    "    return model\n"
   ]
  },
  {
   "cell_type": "code",
   "execution_count": 52,
   "metadata": {},
   "outputs": [],
   "source": [
    "def avaliarTreino(model, x_train, df, scaler, days):\n",
    "    predicted_train = model.predict(x_train)\n",
    "    predicted_train = scaler.inverse_transform(predicted_train)\n",
    "\n",
    "    actual_train = df['Adj Close'].values\n",
    "    mae_train = mean_absolute_error(actual_train[days:], predicted_train)\n",
    "    mse_train = mean_squared_error(actual_train[days:], predicted_train)\n",
    "    rmse_train = np.sqrt(mse_train)\n",
    "    r2_train = r2_score(actual_train[days:], predicted_train)\n",
    "\n",
    "    return mae_train, mse_train, rmse_train, r2_train, actual_train, predicted_train"
   ]
  },
  {
   "cell_type": "code",
   "execution_count": 53,
   "metadata": {},
   "outputs": [],
   "source": [
    "def prepararDadosTeste(total_dataset, df_teste, scaler, days):\n",
    "    model_inputs = total_dataset[len(total_dataset) - len(df_teste) - days:].values\n",
    "    model_inputs = model_inputs.reshape(-1, 1)\n",
    "    model_inputs = scaler.transform(model_inputs)\n",
    "    \n",
    "    x_test = []\n",
    "    for i in range(days, len(model_inputs)):\n",
    "        x_test.append(model_inputs[i-days:i, 0])\n",
    "\n",
    "    x_test = np.array(x_test)\n",
    "    return np.reshape(x_test, (x_test.shape[0], x_test.shape[1], 1))\n"
   ]
  },
  {
   "cell_type": "code",
   "execution_count": 54,
   "metadata": {},
   "outputs": [],
   "source": [
    "def avaliarTeste(model, x_test, df_teste, scaler, days):\n",
    "    predicted_test = model.predict(x_test)\n",
    "    predicted_test = scaler.inverse_transform(predicted_test)\n",
    "    \n",
    "    actual_test = df_teste['Adj Close'].values\n",
    "    \n",
    "    predicted_test = predicted_test[:-1]\n",
    "    actual_test = actual_test[:len(predicted_test)]\n",
    "    \n",
    "    mae = mean_absolute_error(actual_test, predicted_test)\n",
    "    mse = mean_squared_error(actual_test, predicted_test)\n",
    "    rmse = np.sqrt(mse)\n",
    "    r2 = r2_score(actual_test, predicted_test)\n",
    "    \n",
    "    return mae, mse, rmse, r2, actual_test, predicted_test"
   ]
  },
  {
   "cell_type": "code",
   "execution_count": 55,
   "metadata": {},
   "outputs": [],
   "source": [
    "def plotarResultados(df_treino, predicted_train, df_teste, predicted_test, days, ticker):\n",
    "    plt.figure(figsize=(14, 7)) \n",
    "\n",
    "    plt.plot(df_treino['Adj Close'].values, color='blue', label=f'Dados de Treinamento da {ticker}')\n",
    "    \n",
    "    plt.plot(range(days, days + len(predicted_train)), predicted_train, color='red', label=f'Previsão do Treinamento {ticker}')\n",
    "    \n",
    "    plt.plot(range(len(df_treino), len(df_treino) + len(df_teste)), df_teste['Adj Close'].values, color='black', label=f'Preços Reais da {ticker}')\n",
    "    \n",
    "    plt.plot(range(len(df_treino), len(df_treino) + len(predicted_test)), predicted_test, color='green', label=f'Previsão do Teste da {ticker}')\n",
    "\n",
    "    plt.title(f'{ticker} - Janela: {days} dias')\n",
    "    plt.xlabel('Tempo')\n",
    "    plt.ylabel(f'Preço de {ticker}')\n",
    "    \n",
    "    plt.legend()\n",
    "  \n",
    "    plt.savefig(f'prediction_plot_{days}_days.png')\n",
    "    plt.show()\n"
   ]
  },
  {
   "cell_type": "code",
   "execution_count": null,
   "metadata": {},
   "outputs": [],
   "source": [
    "def executarModelo(ticket, data, addData, max_days=21):\n",
    "    all_results = [] \n",
    "    \n",
    "    scaled_data, scaler = normalizar(data)\n",
    "    scaled_addData = scaler.fit_transform(addData['valor'].values.reshape(-1, 1))\n",
    "\n",
    "\n",
    "    for days in range(1, max_days):\n",
    "        x_train, y_train = prepararDados(scaled_data, days)\n",
    "        x_add_train = prepararDadosAdicionais(scaled_addData, days)\n",
    "\n",
    "        x_add_train = x_add_train[:len(x_train)]\n",
    "\n",
    "        x_train = np.reshape(x_train, (x_train.shape[0], x_train.shape[1], 1))\n",
    "        x_add_train = np.reshape(x_add_train, (x_add_train.shape[0], x_add_train.shape[1], 1))\n",
    "\n",
    "        model = modeloLSTM((x_train.shape[1], 1), (x_add_train.shape[1], 1))\n",
    "        model = treinarModelo(model, [x_train, x_add_train], y_train, epochs=25, batch_size=32)\n",
    "\n",
    "        mae_train, mse_train, rmse_train, r2_train = avaliarTreino(model, x_train, data, scaler, days)\n",
    "\n",
    "        df_teste = carregarDados(ticket, '2021-01-01', '2024-01-01')\n",
    "        total_dataset = pd.concat((data['Adj Close'], df_teste['Adj Close']), axis=0)\n",
    "        x_test = prepararDadosTeste(total_dataset, df_teste, scaler, days)\n",
    "\n",
    "        mae, mse, rmse, r2, actual_test, predicted_test = avaliarTeste(model, x_test, df_teste, scaler, days)\n",
    "\n",
    "        plotarResultados(data, scaler.inverse_transform(y_train.reshape(-1, 1)), df_teste, predicted_test, days, ticket)\n",
    "\n",
    "        all_results.append({\n",
    "            'Days': days,\n",
    "            'MAE_Train': mae_train,\n",
    "            'MSE_Train': mse_train,\n",
    "            'RMSE_Train': rmse_train,\n",
    "            'R²_Train': r2_train,\n",
    "            'MAE_Test': mae,\n",
    "            'MSE_Test': mse,\n",
    "            'RMSE_Test': rmse,\n",
    "            'R²_Test': r2\n",
    "        })\n",
    "\n",
    "    all_results_df = pd.DataFrame(all_results)\n",
    "    all_results_df.to_csv('model_performance_all_days.csv', index=False)\n"
   ]
  },
  {
   "cell_type": "code",
   "execution_count": 57,
   "metadata": {},
   "outputs": [
    {
     "name": "stderr",
     "output_type": "stream",
     "text": [
      "[*********************100%%**********************]  1 of 1 completed\n"
     ]
    },
    {
     "ename": "TypeError",
     "evalue": "treinarModelo() missing 1 required positional argument: 'y_train'",
     "output_type": "error",
     "traceback": [
      "\u001b[1;31m---------------------------------------------------------------------------\u001b[0m",
      "\u001b[1;31mTypeError\u001b[0m                                 Traceback (most recent call last)",
      "Cell \u001b[1;32mIn[57], line 5\u001b[0m\n\u001b[0;32m      3\u001b[0m taxaJuros \u001b[38;5;241m=\u001b[39m getTaxaJuros(\u001b[38;5;124m'\u001b[39m\u001b[38;5;124m2005-01-01\u001b[39m\u001b[38;5;124m'\u001b[39m, \u001b[38;5;124m'\u001b[39m\u001b[38;5;124m2021-01-01\u001b[39m\u001b[38;5;124m'\u001b[39m)\u001b[38;5;241m.\u001b[39mreset_index(drop\u001b[38;5;241m=\u001b[39m\u001b[38;5;28;01mTrue\u001b[39;00m)\n\u001b[0;32m      4\u001b[0m taxaJuros\n\u001b[1;32m----> 5\u001b[0m executarModelo(ticket, data, taxaJuros, max_days\u001b[38;5;241m=\u001b[39m\u001b[38;5;241m21\u001b[39m)\n",
      "Cell \u001b[1;32mIn[56], line 18\u001b[0m, in \u001b[0;36mexecutarModelo\u001b[1;34m(ticket, data, addData, max_days)\u001b[0m\n\u001b[0;32m     15\u001b[0m x_add_train \u001b[38;5;241m=\u001b[39m np\u001b[38;5;241m.\u001b[39mreshape(x_add_train, (x_add_train\u001b[38;5;241m.\u001b[39mshape[\u001b[38;5;241m0\u001b[39m], x_add_train\u001b[38;5;241m.\u001b[39mshape[\u001b[38;5;241m1\u001b[39m], \u001b[38;5;241m1\u001b[39m))\n\u001b[0;32m     17\u001b[0m model \u001b[38;5;241m=\u001b[39m modeloLSTM((x_train\u001b[38;5;241m.\u001b[39mshape[\u001b[38;5;241m1\u001b[39m], \u001b[38;5;241m1\u001b[39m), (x_add_train\u001b[38;5;241m.\u001b[39mshape[\u001b[38;5;241m1\u001b[39m], \u001b[38;5;241m1\u001b[39m))\n\u001b[1;32m---> 18\u001b[0m model \u001b[38;5;241m=\u001b[39m treinarModelo(model, [x_train, x_add_train], y_train, epochs\u001b[38;5;241m=\u001b[39m\u001b[38;5;241m25\u001b[39m, batch_size\u001b[38;5;241m=\u001b[39m\u001b[38;5;241m32\u001b[39m)\n\u001b[0;32m     20\u001b[0m mae_train, mse_train, rmse_train, r2_train, actual_train, predicted_train \u001b[38;5;241m=\u001b[39m avaliarTreino(model, x_train, data, scaler, days)\n\u001b[0;32m     22\u001b[0m \u001b[38;5;28mprint\u001b[39m(actual_train[:\u001b[38;5;241m5\u001b[39m])\n",
      "\u001b[1;31mTypeError\u001b[0m: treinarModelo() missing 1 required positional argument: 'y_train'"
     ]
    }
   ],
   "source": [
    "ticket = 'PETR4.SA'\n",
    "data = carregarDados(ticket, '2005-01-01', '2021-01-01')\n",
    "taxaJuros = getTaxaJuros('2005-01-01', '2021-01-01').reset_index(drop=True)\n",
    "taxaJuros\n",
    "executarModelo(ticket, data, taxaJuros, max_days=21)\n",
    "\n",
    "\n"
   ]
  }
 ],
 "metadata": {
  "kernelspec": {
   "display_name": "ambiente",
   "language": "python",
   "name": "python3"
  },
  "language_info": {
   "codemirror_mode": {
    "name": "ipython",
    "version": 3
   },
   "file_extension": ".py",
   "mimetype": "text/x-python",
   "name": "python",
   "nbconvert_exporter": "python",
   "pygments_lexer": "ipython3",
   "version": "3.12.3"
  }
 },
 "nbformat": 4,
 "nbformat_minor": 2
}
