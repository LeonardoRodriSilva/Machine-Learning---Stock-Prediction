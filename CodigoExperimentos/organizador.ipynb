{
 "cells": [
  {
   "cell_type": "code",
   "execution_count": null,
   "metadata": {},
   "outputs": [
    {
     "ename": "",
     "evalue": "",
     "output_type": "error",
     "traceback": [
      "\u001b[1;31mThe Kernel crashed while executing code in the current cell or a previous cell. \n",
      "\u001b[1;31mPlease review the code in the cell(s) to identify a possible cause of the failure. \n",
      "\u001b[1;31mClick <a href='https://aka.ms/vscodeJupyterKernelCrash'>here</a> for more info. \n",
      "\u001b[1;31mView Jupyter <a href='command:jupyter.viewOutput'>log</a> for further details."
     ]
    }
   ],
   "source": [
    "import os\n",
    "import shutil\n",
    "\n",
    "# Caminho onde os arquivos serão armazenados\n",
    "base_dir = os.getcwd()\n",
    "\n",
    "# Itera sobre as janelas de dias (1 a 20)\n",
    "for days in range(1, 21):\n",
    "    # Cria um diretório para cada janela de dias\n",
    "    folder_name = f'Janela_{days}_'\n",
    "    folder_path = os.path.join(base_dir, folder_name)\n",
    "    os.makedirs(folder_path, exist_ok=True)  # Cria o diretório se não existir\n",
    "    \n",
    "    # Itera sobre os 5 folds\n",
    "    for fold in range(5):\n",
    "        # Cria o nome do arquivo baseado nos dias e fold\n",
    "        filename = f'prediction_plot_{days}_days_fold_{fold}.png'\n",
    "        \n",
    "        # Verifica se o arquivo existe antes de movê-lo\n",
    "        if os.path.exists(filename):\n",
    "            # Move o arquivo para a pasta correspondente\n",
    "            shutil.move(os.path.join(base_dir, filename), os.path.join(folder_path, filename))\n"
   ]
  }
 ],
 "metadata": {
  "kernelspec": {
   "display_name": "ambiente",
   "language": "python",
   "name": "python3"
  },
  "language_info": {
   "codemirror_mode": {
    "name": "ipython",
    "version": 3
   },
   "file_extension": ".py",
   "mimetype": "text/x-python",
   "name": "python",
   "nbconvert_exporter": "python",
   "pygments_lexer": "ipython3",
   "version": "3.12.3"
  }
 },
 "nbformat": 4,
 "nbformat_minor": 2
}
