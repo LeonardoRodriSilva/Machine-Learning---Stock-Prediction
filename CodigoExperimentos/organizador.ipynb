{
 "cells": [
  {
   "cell_type": "code",
   "execution_count": 3,
   "metadata": {},
   "outputs": [
    {
     "name": "stdout",
     "output_type": "stream",
     "text": [
      "Movido: BRFS3.SA_Janela_1_grafico_teste_final.png -> c:\\Users\\leona\\pyhtonscripts\\CodigoExperimentos\\ExperimentoFeatures\\resultados_lstm_organizados\\BRFS3.SA\\Janela_1\\BRFS3.SA_Janela_1_grafico_teste_final.png\n",
      "Movido: BRFS3.SA_Janela_1_hiperparametros.csv -> c:\\Users\\leona\\pyhtonscripts\\CodigoExperimentos\\ExperimentoFeatures\\resultados_lstm_organizados\\BRFS3.SA\\Janela_1\\BRFS3.SA_Janela_1_hiperparametros.csv\n",
      "Movido: BRFS3.SA_Janela_1_metrics.csv -> c:\\Users\\leona\\pyhtonscripts\\CodigoExperimentos\\ExperimentoFeatures\\resultados_lstm_organizados\\BRFS3.SA\\Janela_1\\BRFS3.SA_Janela_1_metrics.csv\n",
      "Movido: BRFS3.SA_Janela_1_previsoes_teste_final.csv -> c:\\Users\\leona\\pyhtonscripts\\CodigoExperimentos\\ExperimentoFeatures\\resultados_lstm_organizados\\BRFS3.SA\\Janela_1\\BRFS3.SA_Janela_1_previsoes_teste_final.csv\n",
      "Movido: BRFS3.SA_Janela_2_grafico_teste_final.png -> c:\\Users\\leona\\pyhtonscripts\\CodigoExperimentos\\ExperimentoFeatures\\resultados_lstm_organizados\\BRFS3.SA\\Janela_2\\BRFS3.SA_Janela_2_grafico_teste_final.png\n",
      "Movido: BRFS3.SA_Janela_2_hiperparametros.csv -> c:\\Users\\leona\\pyhtonscripts\\CodigoExperimentos\\ExperimentoFeatures\\resultados_lstm_organizados\\BRFS3.SA\\Janela_2\\BRFS3.SA_Janela_2_hiperparametros.csv\n",
      "Movido: BRFS3.SA_Janela_2_metrics.csv -> c:\\Users\\leona\\pyhtonscripts\\CodigoExperimentos\\ExperimentoFeatures\\resultados_lstm_organizados\\BRFS3.SA\\Janela_2\\BRFS3.SA_Janela_2_metrics.csv\n",
      "Movido: BRFS3.SA_Janela_2_previsoes_teste_final.csv -> c:\\Users\\leona\\pyhtonscripts\\CodigoExperimentos\\ExperimentoFeatures\\resultados_lstm_organizados\\BRFS3.SA\\Janela_2\\BRFS3.SA_Janela_2_previsoes_teste_final.csv\n",
      "Movido: BRFS3.SA_Janela_3_grafico_teste_final.png -> c:\\Users\\leona\\pyhtonscripts\\CodigoExperimentos\\ExperimentoFeatures\\resultados_lstm_organizados\\BRFS3.SA\\Janela_3\\BRFS3.SA_Janela_3_grafico_teste_final.png\n",
      "Movido: BRFS3.SA_Janela_3_hiperparametros.csv -> c:\\Users\\leona\\pyhtonscripts\\CodigoExperimentos\\ExperimentoFeatures\\resultados_lstm_organizados\\BRFS3.SA\\Janela_3\\BRFS3.SA_Janela_3_hiperparametros.csv\n",
      "Movido: BRFS3.SA_Janela_3_metrics.csv -> c:\\Users\\leona\\pyhtonscripts\\CodigoExperimentos\\ExperimentoFeatures\\resultados_lstm_organizados\\BRFS3.SA\\Janela_3\\BRFS3.SA_Janela_3_metrics.csv\n",
      "Movido: BRFS3.SA_Janela_3_previsoes_teste_final.csv -> c:\\Users\\leona\\pyhtonscripts\\CodigoExperimentos\\ExperimentoFeatures\\resultados_lstm_organizados\\BRFS3.SA\\Janela_3\\BRFS3.SA_Janela_3_previsoes_teste_final.csv\n",
      "Movido: BRFS3.SA_Janela_4_grafico_teste_final.png -> c:\\Users\\leona\\pyhtonscripts\\CodigoExperimentos\\ExperimentoFeatures\\resultados_lstm_organizados\\BRFS3.SA\\Outros\\BRFS3.SA_Janela_4_grafico_teste_final.png\n",
      "Movido: BRFS3.SA_Janela_4_hiperparametros.csv -> c:\\Users\\leona\\pyhtonscripts\\CodigoExperimentos\\ExperimentoFeatures\\resultados_lstm_organizados\\BRFS3.SA\\Outros\\BRFS3.SA_Janela_4_hiperparametros.csv\n",
      "Movido: BRFS3.SA_Janela_4_metrics.csv -> c:\\Users\\leona\\pyhtonscripts\\CodigoExperimentos\\ExperimentoFeatures\\resultados_lstm_organizados\\BRFS3.SA\\Outros\\BRFS3.SA_Janela_4_metrics.csv\n",
      "Movido: BRFS3.SA_Janela_4_previsoes_teste_final.csv -> c:\\Users\\leona\\pyhtonscripts\\CodigoExperimentos\\ExperimentoFeatures\\resultados_lstm_organizados\\BRFS3.SA\\Outros\\BRFS3.SA_Janela_4_previsoes_teste_final.csv\n"
     ]
    }
   ],
   "source": [
    "import os\n",
    "import shutil\n",
    "\n",
    "# Caminho onde os arquivos estão armazenados atualmente\n",
    "source_dir = r\"c:\\Users\\leona\\pyhtonscripts\\CodigoExperimentos\\ExperimentoFeatures\\resultados_lstm_cv_macro_tratados\"\n",
    "\n",
    "# Caminho onde os arquivos reorganizados serão salvos\n",
    "output_dir = r\"c:\\Users\\leona\\pyhtonscripts\\CodigoExperimentos\\ExperimentoFeatures\\resultados_lstm_organizados\"\n",
    "os.makedirs(output_dir, exist_ok=True)\n",
    "\n",
    "# Lista de tickers\n",
    "tickers = [\"PETR4.SA\", \"BEEF3.SA\",\"BRFS3.SA\", \"VALE3.SA\", \"JBSS3.SA\", \"SOJA3.SA\", \"SUZB3.SA\", \"GGBR3.SA\", \"CSNA3.SA\"]\n",
    "\n",
    "# Reorganizar os arquivos\n",
    "for file in os.listdir(source_dir):\n",
    "    # Ignorar arquivos que não sejam relevantes\n",
    "    if not any(file.startswith(ticker) for ticker in tickers):\n",
    "        continue\n",
    "\n",
    "    # Identificar o ticker e a janela pelo nome do arquivo\n",
    "    for ticker in tickers:\n",
    "        if file.startswith(ticker):\n",
    "            # Extrair a janela do nome do arquivo (ex.: \"Janela_1\", \"Janela_2\", etc.)\n",
    "            if \"Janela_1\" in file:\n",
    "                janela = \"Janela_1\"\n",
    "            elif \"Janela_2\" in file:\n",
    "                janela = \"Janela_2\"\n",
    "            elif \"Janela_3\" in file:\n",
    "                janela = \"Janela_3\"\n",
    "            else:\n",
    "                janela = \"Outros\"\n",
    "\n",
    "            # Criar subpastas para o ticker e a janela\n",
    "            ticker_folder = os.path.join(output_dir, ticker, janela)\n",
    "            os.makedirs(ticker_folder, exist_ok=True)\n",
    "\n",
    "            # Mover o arquivo para a subpasta correspondente\n",
    "            source_path = os.path.join(source_dir, file)\n",
    "            destination_path = os.path.join(ticker_folder, file)\n",
    "            shutil.move(source_path, destination_path)\n",
    "            print(f\"Movido: {file} -> {destination_path}\")"
   ]
  }
 ],
 "metadata": {
  "kernelspec": {
   "display_name": "ambiente",
   "language": "python",
   "name": "python3"
  },
  "language_info": {
   "codemirror_mode": {
    "name": "ipython",
    "version": 3
   },
   "file_extension": ".py",
   "mimetype": "text/x-python",
   "name": "python",
   "nbconvert_exporter": "python",
   "pygments_lexer": "ipython3",
   "version": "3.12.3"
  }
 },
 "nbformat": 4,
 "nbformat_minor": 2
}
