{
 "cells": [
  {
   "cell_type": "code",
   "execution_count": 442,
   "metadata": {},
   "outputs": [],
   "source": [
    "import pandas as pd\n",
    "import numpy as np\n",
    "import yfinance as yfin\n",
    "from datetime import datetime\n",
    "import matplotlib.pyplot as plt\n",
    "from sklearn.preprocessing import MinMaxScaler\n",
    "from tensorflow.keras.models import Sequential\n",
    "from tensorflow.keras.layers import Dense, Dropout, LSTM\n",
    "from sklearn.metrics import mean_absolute_error, mean_squared_error, r2_score"
   ]
  },
  {
   "cell_type": "markdown",
   "metadata": {},
   "source": [
    "Carregamento dos dados"
   ]
  },
  {
   "cell_type": "code",
   "execution_count": 443,
   "metadata": {},
   "outputs": [],
   "source": [
    "ticket = \"PETR4.SA\""
   ]
  },
  {
   "cell_type": "code",
   "execution_count": 444,
   "metadata": {},
   "outputs": [
    {
     "name": "stderr",
     "output_type": "stream",
     "text": [
      "[*********************100%%**********************]  1 of 1 completed\n"
     ]
    }
   ],
   "source": [
    "data = yfin.download(tickers= ticket, start= datetime(2005,1,1), end= datetime(2021,1,1))"
   ]
  },
  {
   "cell_type": "code",
   "execution_count": 445,
   "metadata": {},
   "outputs": [
    {
     "data": {
      "text/html": [
       "<div>\n",
       "<style scoped>\n",
       "    .dataframe tbody tr th:only-of-type {\n",
       "        vertical-align: middle;\n",
       "    }\n",
       "\n",
       "    .dataframe tbody tr th {\n",
       "        vertical-align: top;\n",
       "    }\n",
       "\n",
       "    .dataframe thead th {\n",
       "        text-align: right;\n",
       "    }\n",
       "</style>\n",
       "<table border=\"1\" class=\"dataframe\">\n",
       "  <thead>\n",
       "    <tr style=\"text-align: right;\">\n",
       "      <th></th>\n",
       "      <th>Open</th>\n",
       "      <th>High</th>\n",
       "      <th>Low</th>\n",
       "      <th>Close</th>\n",
       "      <th>Adj Close</th>\n",
       "      <th>Volume</th>\n",
       "    </tr>\n",
       "    <tr>\n",
       "      <th>Date</th>\n",
       "      <th></th>\n",
       "      <th></th>\n",
       "      <th></th>\n",
       "      <th></th>\n",
       "      <th></th>\n",
       "      <th></th>\n",
       "    </tr>\n",
       "  </thead>\n",
       "  <tbody>\n",
       "    <tr>\n",
       "      <th>2005-01-03</th>\n",
       "      <td>12.187500</td>\n",
       "      <td>12.237500</td>\n",
       "      <td>11.773750</td>\n",
       "      <td>11.775000</td>\n",
       "      <td>2.810848</td>\n",
       "      <td>30044800</td>\n",
       "    </tr>\n",
       "    <tr>\n",
       "      <th>2005-01-04</th>\n",
       "      <td>11.873750</td>\n",
       "      <td>11.950000</td>\n",
       "      <td>11.625000</td>\n",
       "      <td>11.635000</td>\n",
       "      <td>2.777429</td>\n",
       "      <td>37667200</td>\n",
       "    </tr>\n",
       "    <tr>\n",
       "      <th>2005-01-05</th>\n",
       "      <td>11.662500</td>\n",
       "      <td>11.772500</td>\n",
       "      <td>11.475000</td>\n",
       "      <td>11.590000</td>\n",
       "      <td>2.766685</td>\n",
       "      <td>30873600</td>\n",
       "    </tr>\n",
       "    <tr>\n",
       "      <th>2005-01-06</th>\n",
       "      <td>11.652500</td>\n",
       "      <td>11.687500</td>\n",
       "      <td>11.487500</td>\n",
       "      <td>11.625000</td>\n",
       "      <td>2.775040</td>\n",
       "      <td>28224000</td>\n",
       "    </tr>\n",
       "    <tr>\n",
       "      <th>2005-01-07</th>\n",
       "      <td>11.648750</td>\n",
       "      <td>11.787500</td>\n",
       "      <td>11.563750</td>\n",
       "      <td>11.676250</td>\n",
       "      <td>2.787275</td>\n",
       "      <td>25980800</td>\n",
       "    </tr>\n",
       "    <tr>\n",
       "      <th>...</th>\n",
       "      <td>...</td>\n",
       "      <td>...</td>\n",
       "      <td>...</td>\n",
       "      <td>...</td>\n",
       "      <td>...</td>\n",
       "      <td>...</td>\n",
       "    </tr>\n",
       "    <tr>\n",
       "      <th>2020-12-22</th>\n",
       "      <td>27.200001</td>\n",
       "      <td>27.469999</td>\n",
       "      <td>27.049999</td>\n",
       "      <td>27.280001</td>\n",
       "      <td>9.707006</td>\n",
       "      <td>46513200</td>\n",
       "    </tr>\n",
       "    <tr>\n",
       "      <th>2020-12-23</th>\n",
       "      <td>27.430000</td>\n",
       "      <td>28.250000</td>\n",
       "      <td>27.350000</td>\n",
       "      <td>27.950001</td>\n",
       "      <td>9.945411</td>\n",
       "      <td>49038900</td>\n",
       "    </tr>\n",
       "    <tr>\n",
       "      <th>2020-12-28</th>\n",
       "      <td>28.360001</td>\n",
       "      <td>28.520000</td>\n",
       "      <td>28.180000</td>\n",
       "      <td>28.180000</td>\n",
       "      <td>10.027251</td>\n",
       "      <td>36313300</td>\n",
       "    </tr>\n",
       "    <tr>\n",
       "      <th>2020-12-29</th>\n",
       "      <td>28.379999</td>\n",
       "      <td>28.430000</td>\n",
       "      <td>27.990000</td>\n",
       "      <td>28.270000</td>\n",
       "      <td>10.059277</td>\n",
       "      <td>29891100</td>\n",
       "    </tr>\n",
       "    <tr>\n",
       "      <th>2020-12-30</th>\n",
       "      <td>28.350000</td>\n",
       "      <td>28.490000</td>\n",
       "      <td>28.200001</td>\n",
       "      <td>28.340000</td>\n",
       "      <td>10.084184</td>\n",
       "      <td>36968200</td>\n",
       "    </tr>\n",
       "  </tbody>\n",
       "</table>\n",
       "<p>3977 rows × 6 columns</p>\n",
       "</div>"
      ],
      "text/plain": [
       "                 Open       High        Low      Close  Adj Close    Volume\n",
       "Date                                                                       \n",
       "2005-01-03  12.187500  12.237500  11.773750  11.775000   2.810848  30044800\n",
       "2005-01-04  11.873750  11.950000  11.625000  11.635000   2.777429  37667200\n",
       "2005-01-05  11.662500  11.772500  11.475000  11.590000   2.766685  30873600\n",
       "2005-01-06  11.652500  11.687500  11.487500  11.625000   2.775040  28224000\n",
       "2005-01-07  11.648750  11.787500  11.563750  11.676250   2.787275  25980800\n",
       "...               ...        ...        ...        ...        ...       ...\n",
       "2020-12-22  27.200001  27.469999  27.049999  27.280001   9.707006  46513200\n",
       "2020-12-23  27.430000  28.250000  27.350000  27.950001   9.945411  49038900\n",
       "2020-12-28  28.360001  28.520000  28.180000  28.180000  10.027251  36313300\n",
       "2020-12-29  28.379999  28.430000  27.990000  28.270000  10.059277  29891100\n",
       "2020-12-30  28.350000  28.490000  28.200001  28.340000  10.084184  36968200\n",
       "\n",
       "[3977 rows x 6 columns]"
      ]
     },
     "execution_count": 445,
     "metadata": {},
     "output_type": "execute_result"
    }
   ],
   "source": [
    "data"
   ]
  },
  {
   "cell_type": "code",
   "execution_count": 446,
   "metadata": {},
   "outputs": [
    {
     "name": "stdout",
     "output_type": "stream",
     "text": [
      "<class 'pandas.core.frame.DataFrame'>\n",
      "DatetimeIndex: 3977 entries, 2005-01-03 to 2020-12-30\n",
      "Data columns (total 6 columns):\n",
      " #   Column     Non-Null Count  Dtype  \n",
      "---  ------     --------------  -----  \n",
      " 0   Open       3977 non-null   float64\n",
      " 1   High       3977 non-null   float64\n",
      " 2   Low        3977 non-null   float64\n",
      " 3   Close      3977 non-null   float64\n",
      " 4   Adj Close  3977 non-null   float64\n",
      " 5   Volume     3977 non-null   int64  \n",
      "dtypes: float64(5), int64(1)\n",
      "memory usage: 217.5 KB\n"
     ]
    }
   ],
   "source": [
    "data.info()"
   ]
  },
  {
   "cell_type": "code",
   "execution_count": 447,
   "metadata": {},
   "outputs": [
    {
     "data": {
      "text/html": [
       "<div>\n",
       "<style scoped>\n",
       "    .dataframe tbody tr th:only-of-type {\n",
       "        vertical-align: middle;\n",
       "    }\n",
       "\n",
       "    .dataframe tbody tr th {\n",
       "        vertical-align: top;\n",
       "    }\n",
       "\n",
       "    .dataframe thead th {\n",
       "        text-align: right;\n",
       "    }\n",
       "</style>\n",
       "<table border=\"1\" class=\"dataframe\">\n",
       "  <thead>\n",
       "    <tr style=\"text-align: right;\">\n",
       "      <th></th>\n",
       "      <th>Open</th>\n",
       "      <th>High</th>\n",
       "      <th>Low</th>\n",
       "      <th>Close</th>\n",
       "      <th>Adj Close</th>\n",
       "      <th>Volume</th>\n",
       "    </tr>\n",
       "  </thead>\n",
       "  <tbody>\n",
       "    <tr>\n",
       "      <th>count</th>\n",
       "      <td>3977.000000</td>\n",
       "      <td>3977.000000</td>\n",
       "      <td>3977.000000</td>\n",
       "      <td>3977.000000</td>\n",
       "      <td>3977.000000</td>\n",
       "      <td>3.977000e+03</td>\n",
       "    </tr>\n",
       "    <tr>\n",
       "      <th>mean</th>\n",
       "      <td>21.647976</td>\n",
       "      <td>21.959028</td>\n",
       "      <td>21.306031</td>\n",
       "      <td>21.623410</td>\n",
       "      <td>6.430631</td>\n",
       "      <td>4.702883e+07</td>\n",
       "    </tr>\n",
       "    <tr>\n",
       "      <th>std</th>\n",
       "      <td>8.142613</td>\n",
       "      <td>8.232288</td>\n",
       "      <td>8.032465</td>\n",
       "      <td>8.132562</td>\n",
       "      <td>2.275068</td>\n",
       "      <td>7.844114e+07</td>\n",
       "    </tr>\n",
       "    <tr>\n",
       "      <th>min</th>\n",
       "      <td>4.200000</td>\n",
       "      <td>4.270000</td>\n",
       "      <td>4.120000</td>\n",
       "      <td>4.200000</td>\n",
       "      <td>1.386508</td>\n",
       "      <td>0.000000e+00</td>\n",
       "    </tr>\n",
       "    <tr>\n",
       "      <th>25%</th>\n",
       "      <td>15.850000</td>\n",
       "      <td>16.080000</td>\n",
       "      <td>15.570000</td>\n",
       "      <td>15.820000</td>\n",
       "      <td>4.965998</td>\n",
       "      <td>1.917690e+07</td>\n",
       "    </tr>\n",
       "    <tr>\n",
       "      <th>50%</th>\n",
       "      <td>21.225000</td>\n",
       "      <td>21.520000</td>\n",
       "      <td>20.900000</td>\n",
       "      <td>21.200001</td>\n",
       "      <td>6.129639</td>\n",
       "      <td>3.005110e+07</td>\n",
       "    </tr>\n",
       "    <tr>\n",
       "      <th>75%</th>\n",
       "      <td>26.440001</td>\n",
       "      <td>26.830000</td>\n",
       "      <td>26.080000</td>\n",
       "      <td>26.450001</td>\n",
       "      <td>7.978117</td>\n",
       "      <td>5.019180e+07</td>\n",
       "    </tr>\n",
       "    <tr>\n",
       "      <th>max</th>\n",
       "      <td>52.580002</td>\n",
       "      <td>53.680000</td>\n",
       "      <td>51.950001</td>\n",
       "      <td>52.509998</td>\n",
       "      <td>14.068739</td>\n",
       "      <td>1.336049e+09</td>\n",
       "    </tr>\n",
       "  </tbody>\n",
       "</table>\n",
       "</div>"
      ],
      "text/plain": [
       "              Open         High          Low        Close    Adj Close  \\\n",
       "count  3977.000000  3977.000000  3977.000000  3977.000000  3977.000000   \n",
       "mean     21.647976    21.959028    21.306031    21.623410     6.430631   \n",
       "std       8.142613     8.232288     8.032465     8.132562     2.275068   \n",
       "min       4.200000     4.270000     4.120000     4.200000     1.386508   \n",
       "25%      15.850000    16.080000    15.570000    15.820000     4.965998   \n",
       "50%      21.225000    21.520000    20.900000    21.200001     6.129639   \n",
       "75%      26.440001    26.830000    26.080000    26.450001     7.978117   \n",
       "max      52.580002    53.680000    51.950001    52.509998    14.068739   \n",
       "\n",
       "             Volume  \n",
       "count  3.977000e+03  \n",
       "mean   4.702883e+07  \n",
       "std    7.844114e+07  \n",
       "min    0.000000e+00  \n",
       "25%    1.917690e+07  \n",
       "50%    3.005110e+07  \n",
       "75%    5.019180e+07  \n",
       "max    1.336049e+09  "
      ]
     },
     "execution_count": 447,
     "metadata": {},
     "output_type": "execute_result"
    }
   ],
   "source": [
    "data.describe()"
   ]
  },
  {
   "cell_type": "code",
   "execution_count": 448,
   "metadata": {},
   "outputs": [
    {
     "data": {
      "text/html": [
       "<div>\n",
       "<style scoped>\n",
       "    .dataframe tbody tr th:only-of-type {\n",
       "        vertical-align: middle;\n",
       "    }\n",
       "\n",
       "    .dataframe tbody tr th {\n",
       "        vertical-align: top;\n",
       "    }\n",
       "\n",
       "    .dataframe thead th {\n",
       "        text-align: right;\n",
       "    }\n",
       "</style>\n",
       "<table border=\"1\" class=\"dataframe\">\n",
       "  <thead>\n",
       "    <tr style=\"text-align: right;\">\n",
       "      <th></th>\n",
       "      <th>Open</th>\n",
       "      <th>High</th>\n",
       "      <th>Low</th>\n",
       "      <th>Close</th>\n",
       "      <th>Adj Close</th>\n",
       "      <th>Volume</th>\n",
       "    </tr>\n",
       "    <tr>\n",
       "      <th>Date</th>\n",
       "      <th></th>\n",
       "      <th></th>\n",
       "      <th></th>\n",
       "      <th></th>\n",
       "      <th></th>\n",
       "      <th></th>\n",
       "    </tr>\n",
       "  </thead>\n",
       "  <tbody>\n",
       "    <tr>\n",
       "      <th>2005-01-03</th>\n",
       "      <td>12.187500</td>\n",
       "      <td>12.237500</td>\n",
       "      <td>11.773750</td>\n",
       "      <td>11.775000</td>\n",
       "      <td>2.810848</td>\n",
       "      <td>30044800</td>\n",
       "    </tr>\n",
       "    <tr>\n",
       "      <th>2005-01-04</th>\n",
       "      <td>11.873750</td>\n",
       "      <td>11.950000</td>\n",
       "      <td>11.625000</td>\n",
       "      <td>11.635000</td>\n",
       "      <td>2.777429</td>\n",
       "      <td>37667200</td>\n",
       "    </tr>\n",
       "    <tr>\n",
       "      <th>2005-01-05</th>\n",
       "      <td>11.662500</td>\n",
       "      <td>11.772500</td>\n",
       "      <td>11.475000</td>\n",
       "      <td>11.590000</td>\n",
       "      <td>2.766685</td>\n",
       "      <td>30873600</td>\n",
       "    </tr>\n",
       "    <tr>\n",
       "      <th>2005-01-06</th>\n",
       "      <td>11.652500</td>\n",
       "      <td>11.687500</td>\n",
       "      <td>11.487500</td>\n",
       "      <td>11.625000</td>\n",
       "      <td>2.775040</td>\n",
       "      <td>28224000</td>\n",
       "    </tr>\n",
       "    <tr>\n",
       "      <th>2005-01-07</th>\n",
       "      <td>11.648750</td>\n",
       "      <td>11.787500</td>\n",
       "      <td>11.563750</td>\n",
       "      <td>11.676250</td>\n",
       "      <td>2.787275</td>\n",
       "      <td>25980800</td>\n",
       "    </tr>\n",
       "    <tr>\n",
       "      <th>...</th>\n",
       "      <td>...</td>\n",
       "      <td>...</td>\n",
       "      <td>...</td>\n",
       "      <td>...</td>\n",
       "      <td>...</td>\n",
       "      <td>...</td>\n",
       "    </tr>\n",
       "    <tr>\n",
       "      <th>2020-12-22</th>\n",
       "      <td>27.200001</td>\n",
       "      <td>27.469999</td>\n",
       "      <td>27.049999</td>\n",
       "      <td>27.280001</td>\n",
       "      <td>9.707006</td>\n",
       "      <td>46513200</td>\n",
       "    </tr>\n",
       "    <tr>\n",
       "      <th>2020-12-23</th>\n",
       "      <td>27.430000</td>\n",
       "      <td>28.250000</td>\n",
       "      <td>27.350000</td>\n",
       "      <td>27.950001</td>\n",
       "      <td>9.945411</td>\n",
       "      <td>49038900</td>\n",
       "    </tr>\n",
       "    <tr>\n",
       "      <th>2020-12-28</th>\n",
       "      <td>28.360001</td>\n",
       "      <td>28.520000</td>\n",
       "      <td>28.180000</td>\n",
       "      <td>28.180000</td>\n",
       "      <td>10.027251</td>\n",
       "      <td>36313300</td>\n",
       "    </tr>\n",
       "    <tr>\n",
       "      <th>2020-12-29</th>\n",
       "      <td>28.379999</td>\n",
       "      <td>28.430000</td>\n",
       "      <td>27.990000</td>\n",
       "      <td>28.270000</td>\n",
       "      <td>10.059277</td>\n",
       "      <td>29891100</td>\n",
       "    </tr>\n",
       "    <tr>\n",
       "      <th>2020-12-30</th>\n",
       "      <td>28.350000</td>\n",
       "      <td>28.490000</td>\n",
       "      <td>28.200001</td>\n",
       "      <td>28.340000</td>\n",
       "      <td>10.084184</td>\n",
       "      <td>36968200</td>\n",
       "    </tr>\n",
       "  </tbody>\n",
       "</table>\n",
       "<p>3977 rows × 6 columns</p>\n",
       "</div>"
      ],
      "text/plain": [
       "                 Open       High        Low      Close  Adj Close    Volume\n",
       "Date                                                                       \n",
       "2005-01-03  12.187500  12.237500  11.773750  11.775000   2.810848  30044800\n",
       "2005-01-04  11.873750  11.950000  11.625000  11.635000   2.777429  37667200\n",
       "2005-01-05  11.662500  11.772500  11.475000  11.590000   2.766685  30873600\n",
       "2005-01-06  11.652500  11.687500  11.487500  11.625000   2.775040  28224000\n",
       "2005-01-07  11.648750  11.787500  11.563750  11.676250   2.787275  25980800\n",
       "...               ...        ...        ...        ...        ...       ...\n",
       "2020-12-22  27.200001  27.469999  27.049999  27.280001   9.707006  46513200\n",
       "2020-12-23  27.430000  28.250000  27.350000  27.950001   9.945411  49038900\n",
       "2020-12-28  28.360001  28.520000  28.180000  28.180000  10.027251  36313300\n",
       "2020-12-29  28.379999  28.430000  27.990000  28.270000  10.059277  29891100\n",
       "2020-12-30  28.350000  28.490000  28.200001  28.340000  10.084184  36968200\n",
       "\n",
       "[3977 rows x 6 columns]"
      ]
     },
     "execution_count": 448,
     "metadata": {},
     "output_type": "execute_result"
    }
   ],
   "source": [
    "data"
   ]
  },
  {
   "cell_type": "code",
   "execution_count": 449,
   "metadata": {},
   "outputs": [
    {
     "data": {
      "image/png": "[encoded data removed]",
      "text/plain": [
       "<Figure size 2000x1500 with 6 Axes>"
      ]
     },
     "metadata": {},
     "output_type": "display_data"
    }
   ],
   "source": [
    "data.hist(bins=150, figsize=(20,15))\n",
    "plt.show()"
   ]
  },
  {
   "cell_type": "code",
   "execution_count": 450,
   "metadata": {},
   "outputs": [],
   "source": [
    "corr_matrix = data.corr()"
   ]
  },
  {
   "cell_type": "code",
   "execution_count": 451,
   "metadata": {},
   "outputs": [
    {
     "data": {
      "text/plain": [
       "Adj Close    1.000000\n",
       "Close        0.947513\n",
       "Low          0.947306\n",
       "High         0.946366\n",
       "Open         0.945893\n",
       "Volume      -0.102108\n",
       "Name: Adj Close, dtype: float64"
      ]
     },
     "execution_count": 451,
     "metadata": {},
     "output_type": "execute_result"
    }
   ],
   "source": [
    "corr_matrix['Adj Close'].sort_values(ascending=False)"
   ]
  },
  {
   "cell_type": "markdown",
   "metadata": {},
   "source": [
    "Preparação dos dados"
   ]
  },
  {
   "cell_type": "code",
   "execution_count": 452,
   "metadata": {},
   "outputs": [],
   "source": [
    "scaler = MinMaxScaler(feature_range=(0,1))\n",
    "scaled_data = scaler.fit_transform(data['Adj Close'].values.reshape(-1,1))"
   ]
  },
  {
   "cell_type": "code",
   "execution_count": 453,
   "metadata": {},
   "outputs": [
    {
     "data": {
      "text/plain": [
       "array([[0.11230986],\n",
       "       [0.10967476],\n",
       "       [0.10882758],\n",
       "       ...,\n",
       "       [0.68132675],\n",
       "       [0.68385197],\n",
       "       [0.68581591]])"
      ]
     },
     "execution_count": 453,
     "metadata": {},
     "output_type": "execute_result"
    }
   ],
   "source": [
    "scaled_data"
   ]
  },
  {
   "cell_type": "code",
   "execution_count": 454,
   "metadata": {},
   "outputs": [],
   "source": [
    "days = 170"
   ]
  },
  {
   "cell_type": "code",
   "execution_count": 455,
   "metadata": {},
   "outputs": [],
   "source": [
    "x_train = []\n",
    "y_train = []"
   ]
  },
  {
   "cell_type": "code",
   "execution_count": 456,
   "metadata": {},
   "outputs": [],
   "source": [
    "for x in range(days, len(scaled_data)):\n",
    "    x_train.append(scaled_data[x-days:x, 0])\n",
    "    y_train.append(scaled_data[x, 0])"
   ]
  },
  {
   "cell_type": "code",
   "execution_count": 457,
   "metadata": {},
   "outputs": [],
   "source": [
    "x_train, y_train = np.array(x_train), np.array(y_train)\n",
    "x_train = np.reshape(x_train, (x_train.shape[0], x_train.shape[1], 1))"
   ]
  },
  {
   "cell_type": "markdown",
   "metadata": {},
   "source": [
    "Modelo"
   ]
  },
  {
   "cell_type": "code",
   "execution_count": 458,
   "metadata": {},
   "outputs": [
    {
     "name": "stdout",
     "output_type": "stream",
     "text": [
      "Epoch 1/25\n"
     ]
    },
    {
     "name": "stderr",
     "output_type": "stream",
     "text": [
      "c:\\Users\\leona\\anaconda3\\envs\\ambiente\\Lib\\site-packages\\keras\\src\\layers\\rnn\\rnn.py:204: UserWarning: Do not pass an `input_shape`/`input_dim` argument to a layer. When using Sequential models, prefer using an `Input(shape)` object as the first layer in the model instead.\n",
      "  super().__init__(**kwargs)\n"
     ]
    },
    {
     "name": "stdout",
     "output_type": "stream",
     "text": [
      "\u001b[1m119/119\u001b[0m \u001b[32m━━━━━━━━━━━━━━━━━━━━\u001b[0m\u001b[37m\u001b[0m \u001b[1m11s\u001b[0m 70ms/step - loss: 0.0293\n",
      "Epoch 2/25\n",
      "\u001b[1m119/119\u001b[0m \u001b[32m━━━━━━━━━━━━━━━━━━━━\u001b[0m\u001b[37m\u001b[0m \u001b[1m9s\u001b[0m 73ms/step - loss: 0.0034\n",
      "Epoch 3/25\n",
      "\u001b[1m119/119\u001b[0m \u001b[32m━━━━━━━━━━━━━━━━━━━━\u001b[0m\u001b[37m\u001b[0m \u001b[1m9s\u001b[0m 74ms/step - loss: 0.0028\n",
      "Epoch 4/25\n",
      "\u001b[1m119/119\u001b[0m \u001b[32m━━━━━━━━━━━━━━━━━━━━\u001b[0m\u001b[37m\u001b[0m \u001b[1m8s\u001b[0m 71ms/step - loss: 0.0029\n",
      "Epoch 5/25\n",
      "\u001b[1m119/119\u001b[0m \u001b[32m━━━━━━━━━━━━━━━━━━━━\u001b[0m\u001b[37m\u001b[0m \u001b[1m8s\u001b[0m 70ms/step - loss: 0.0023\n",
      "Epoch 6/25\n",
      "\u001b[1m119/119\u001b[0m \u001b[32m━━━━━━━━━━━━━━━━━━━━\u001b[0m\u001b[37m\u001b[0m \u001b[1m8s\u001b[0m 71ms/step - loss: 0.0024\n",
      "Epoch 7/25\n",
      "\u001b[1m119/119\u001b[0m \u001b[32m━━━━━━━━━━━━━━━━━━━━\u001b[0m\u001b[37m\u001b[0m \u001b[1m9s\u001b[0m 72ms/step - loss: 0.0025\n",
      "Epoch 8/25\n",
      "\u001b[1m119/119\u001b[0m \u001b[32m━━━━━━━━━━━━━━━━━━━━\u001b[0m\u001b[37m\u001b[0m \u001b[1m7s\u001b[0m 58ms/step - loss: 0.0021\n",
      "Epoch 9/25\n",
      "\u001b[1m119/119\u001b[0m \u001b[32m━━━━━━━━━━━━━━━━━━━━\u001b[0m\u001b[37m\u001b[0m \u001b[1m7s\u001b[0m 57ms/step - loss: 0.0018\n",
      "Epoch 10/25\n",
      "\u001b[1m119/119\u001b[0m \u001b[32m━━━━━━━━━━━━━━━━━━━━\u001b[0m\u001b[37m\u001b[0m \u001b[1m7s\u001b[0m 57ms/step - loss: 0.0017\n",
      "Epoch 11/25\n",
      "\u001b[1m119/119\u001b[0m \u001b[32m━━━━━━━━━━━━━━━━━━━━\u001b[0m\u001b[37m\u001b[0m \u001b[1m7s\u001b[0m 57ms/step - loss: 0.0016\n",
      "Epoch 12/25\n",
      "\u001b[1m119/119\u001b[0m \u001b[32m━━━━━━━━━━━━━━━━━━━━\u001b[0m\u001b[37m\u001b[0m \u001b[1m7s\u001b[0m 57ms/step - loss: 0.0016\n",
      "Epoch 13/25\n",
      "\u001b[1m119/119\u001b[0m \u001b[32m━━━━━━━━━━━━━━━━━━━━\u001b[0m\u001b[37m\u001b[0m \u001b[1m7s\u001b[0m 58ms/step - loss: 0.0012\n",
      "Epoch 14/25\n",
      "\u001b[1m119/119\u001b[0m \u001b[32m━━━━━━━━━━━━━━━━━━━━\u001b[0m\u001b[37m\u001b[0m \u001b[1m7s\u001b[0m 58ms/step - loss: 0.0014\n",
      "Epoch 15/25\n",
      "\u001b[1m119/119\u001b[0m \u001b[32m━━━━━━━━━━━━━━━━━━━━\u001b[0m\u001b[37m\u001b[0m \u001b[1m7s\u001b[0m 58ms/step - loss: 0.0013\n",
      "Epoch 16/25\n",
      "\u001b[1m119/119\u001b[0m \u001b[32m━━━━━━━━━━━━━━━━━━━━\u001b[0m\u001b[37m\u001b[0m \u001b[1m7s\u001b[0m 60ms/step - loss: 0.0014\n",
      "Epoch 17/25\n",
      "\u001b[1m119/119\u001b[0m \u001b[32m━━━━━━━━━━━━━━━━━━━━\u001b[0m\u001b[37m\u001b[0m \u001b[1m7s\u001b[0m 57ms/step - loss: 0.0012\n",
      "Epoch 18/25\n",
      "\u001b[1m119/119\u001b[0m \u001b[32m━━━━━━━━━━━━━━━━━━━━\u001b[0m\u001b[37m\u001b[0m \u001b[1m7s\u001b[0m 57ms/step - loss: 0.0011\n",
      "Epoch 19/25\n",
      "\u001b[1m119/119\u001b[0m \u001b[32m━━━━━━━━━━━━━━━━━━━━\u001b[0m\u001b[37m\u001b[0m \u001b[1m7s\u001b[0m 61ms/step - loss: 0.0012\n",
      "Epoch 20/25\n",
      "\u001b[1m119/119\u001b[0m \u001b[32m━━━━━━━━━━━━━━━━━━━━\u001b[0m\u001b[37m\u001b[0m \u001b[1m7s\u001b[0m 60ms/step - loss: 0.0012\n",
      "Epoch 21/25\n",
      "\u001b[1m119/119\u001b[0m \u001b[32m━━━━━━━━━━━━━━━━━━━━\u001b[0m\u001b[37m\u001b[0m \u001b[1m7s\u001b[0m 59ms/step - loss: 9.4612e-04\n",
      "Epoch 22/25\n",
      "\u001b[1m119/119\u001b[0m \u001b[32m━━━━━━━━━━━━━━━━━━━━\u001b[0m\u001b[37m\u001b[0m \u001b[1m7s\u001b[0m 57ms/step - loss: 8.9822e-04\n",
      "Epoch 23/25\n",
      "\u001b[1m119/119\u001b[0m \u001b[32m━━━━━━━━━━━━━━━━━━━━\u001b[0m\u001b[37m\u001b[0m \u001b[1m7s\u001b[0m 57ms/step - loss: 9.4091e-04\n",
      "Epoch 24/25\n",
      "\u001b[1m119/119\u001b[0m \u001b[32m━━━━━━━━━━━━━━━━━━━━\u001b[0m\u001b[37m\u001b[0m \u001b[1m7s\u001b[0m 57ms/step - loss: 9.0059e-04\n",
      "Epoch 25/25\n",
      "\u001b[1m119/119\u001b[0m \u001b[32m━━━━━━━━━━━━━━━━━━━━\u001b[0m\u001b[37m\u001b[0m \u001b[1m7s\u001b[0m 58ms/step - loss: 9.5455e-04\n"
     ]
    },
    {
     "data": {
      "text/plain": [
       "<keras.src.callbacks.history.History at 0x1e9c08809e0>"
      ]
     },
     "execution_count": 458,
     "metadata": {},
     "output_type": "execute_result"
    }
   ],
   "source": [
    "model = Sequential()\n",
    "model.add(LSTM(units=50, return_sequences=True, input_shape = (x_train.shape[1],1)))\n",
    "model.add(Dropout(0.2))\n",
    "model.add(LSTM(units=50, return_sequences=True))\n",
    "model.add(Dropout(0.2))\n",
    "model.add(LSTM(units=50))\n",
    "model.add(Dropout(0.2))\n",
    "model.add(Dense(units=1))\n",
    "\n",
    "model.compile(optimizer='adam', loss='mean_squared_error')\n",
    "model.fit(x_train, y_train, epochs=25, batch_size=32)"
   ]
  },
  {
   "cell_type": "code",
   "execution_count": 459,
   "metadata": {},
   "outputs": [
    {
     "name": "stderr",
     "output_type": "stream",
     "text": [
      "[*********************100%%**********************]  1 of 1 completed\n"
     ]
    }
   ],
   "source": [
    "test_data = yfin.download(tickers= ticket, start= datetime(2021,1,1), end= datetime.now())"
   ]
  },
  {
   "cell_type": "code",
   "execution_count": 460,
   "metadata": {},
   "outputs": [],
   "source": [
    "actual_price = test_data['Adj Close'].values"
   ]
  },
  {
   "cell_type": "code",
   "execution_count": 461,
   "metadata": {},
   "outputs": [],
   "source": [
    "total_dataset = pd.concat((data['Adj Close'], test_data['Adj Close']), axis=0)"
   ]
  },
  {
   "cell_type": "code",
   "execution_count": 462,
   "metadata": {},
   "outputs": [],
   "source": [
    "model_inputs = total_dataset[len(total_dataset) - len(test_data) - days:].values"
   ]
  },
  {
   "cell_type": "code",
   "execution_count": 463,
   "metadata": {},
   "outputs": [],
   "source": [
    "model_inputs = model_inputs.reshape(-1,1)"
   ]
  },
  {
   "cell_type": "code",
   "execution_count": 464,
   "metadata": {},
   "outputs": [],
   "source": [
    "model_inputs = scaler.transform(model_inputs)"
   ]
  },
  {
   "cell_type": "code",
   "execution_count": 465,
   "metadata": {},
   "outputs": [],
   "source": [
    "x_test = []"
   ]
  },
  {
   "cell_type": "code",
   "execution_count": 466,
   "metadata": {},
   "outputs": [],
   "source": [
    "for x in range(days, len(model_inputs) + 1):\n",
    "    x_test.append(model_inputs[x-days:x, 0])\n"
   ]
  },
  {
   "cell_type": "code",
   "execution_count": 467,
   "metadata": {},
   "outputs": [],
   "source": [
    "x_test = np.array(x_test)\n",
    "x_test = np.reshape(x_test, (x_test.shape[0], x_test.shape[1], 1))"
   ]
  },
  {
   "cell_type": "code",
   "execution_count": 468,
   "metadata": {},
   "outputs": [
    {
     "name": "stdout",
     "output_type": "stream",
     "text": [
      "\u001b[1m29/29\u001b[0m \u001b[32m━━━━━━━━━━━━━━━━━━━━\u001b[0m\u001b[37m\u001b[0m \u001b[1m1s\u001b[0m 28ms/step\n"
     ]
    }
   ],
   "source": [
    "predicted_prices = model.predict(x_test)"
   ]
  },
  {
   "cell_type": "code",
   "execution_count": 469,
   "metadata": {},
   "outputs": [],
   "source": [
    "predicted_prices = scaler.inverse_transform(predicted_prices)"
   ]
  },
  {
   "cell_type": "code",
   "execution_count": 470,
   "metadata": {},
   "outputs": [
    {
     "data": {
      "image/png": "[encoded data removed]",
      "text/plain": [
       "<Figure size 640x480 with 1 Axes>"
      ]
     },
     "metadata": {},
     "output_type": "display_data"
    }
   ],
   "source": [
    "plt.plot(actual_price, color='black', label=f'Preços da {ticket}')\n",
    "plt.plot(predicted_prices,color='green', label=f'Preços previstos da {ticket}')\n",
    "plt.title(f'{ticket}')\n",
    "plt.xlabel('Tempo')\n",
    "plt.ylabel(f'{ticket}')\n",
    "plt.legend()\n",
    "plt.show()"
   ]
  },
  {
   "cell_type": "code",
   "execution_count": 471,
   "metadata": {},
   "outputs": [],
   "source": [
    "real_data = [model_inputs[len(model_inputs) + 1 - days:len(model_inputs+1), 0]]\n",
    "real_data = np.array(real_data)\n",
    "real_data = np.reshape(real_data, (real_data.shape[0], real_data.shape[1], 1))\n"
   ]
  },
  {
   "cell_type": "code",
   "execution_count": 472,
   "metadata": {},
   "outputs": [
    {
     "name": "stdout",
     "output_type": "stream",
     "text": [
      "\u001b[1m1/1\u001b[0m \u001b[32m━━━━━━━━━━━━━━━━━━━━\u001b[0m\u001b[37m\u001b[0m \u001b[1m0s\u001b[0m 227ms/step\n",
      "Previsão: [[32.822205]]\n"
     ]
    }
   ],
   "source": [
    "prediction = model.predict(real_data)\n",
    "prediction = scaler.inverse_transform(prediction)\n",
    "print(f'Previsão: {prediction}')"
   ]
  },
  {
   "cell_type": "markdown",
   "metadata": {},
   "source": [
    "Métricas de desempenho"
   ]
  },
  {
   "cell_type": "code",
   "execution_count": 473,
   "metadata": {},
   "outputs": [
    {
     "data": {
      "text/plain": [
       "901"
      ]
     },
     "execution_count": 473,
     "metadata": {},
     "output_type": "execute_result"
    }
   ],
   "source": [
    "len(actual_price)"
   ]
  },
  {
   "cell_type": "code",
   "execution_count": 474,
   "metadata": {},
   "outputs": [],
   "source": [
    "predicted_prices = predicted_prices[:-1]"
   ]
  },
  {
   "cell_type": "code",
   "execution_count": 475,
   "metadata": {},
   "outputs": [
    {
     "data": {
      "text/plain": [
       "901"
      ]
     },
     "execution_count": 475,
     "metadata": {},
     "output_type": "execute_result"
    }
   ],
   "source": [
    "len(predicted_prices)"
   ]
  },
  {
   "cell_type": "markdown",
   "metadata": {},
   "source": [
    "Implementar uma métrica (medidas de desempenho) para os dados de teste\n",
    "avaliar outros atrasos \n",
    "avaliar outras ações\n",
    "Repetir experimentos\n",
    "\n"
   ]
  },
  {
   "cell_type": "code",
   "execution_count": 476,
   "metadata": {},
   "outputs": [],
   "source": [
    "mae = mean_absolute_error(actual_price, predicted_prices)\n",
    "mse = mean_squared_error(actual_price, predicted_prices)\n",
    "rmse = np.sqrt(mse)\n",
    "r2 = r2_score(actual_price, predicted_prices)\n"
   ]
  },
  {
   "cell_type": "code",
   "execution_count": 477,
   "metadata": {},
   "outputs": [
    {
     "name": "stdout",
     "output_type": "stream",
     "text": [
      "Mean Absolute Error (MAE): 1.4061309171966654\n",
      "Mean Squared Error (MSE): 4.524198645027\n",
      "Root Mean Squared Error (RMSE): 2.127016371593552\n",
      "R-squared (R²): 0.9514765811862751\n"
     ]
    }
   ],
   "source": [
    "print(f\"Mean Absolute Error (MAE): {mae}\")\n",
    "print(f\"Mean Squared Error (MSE): {mse}\")\n",
    "print(f\"Root Mean Squared Error (RMSE): {rmse}\")\n",
    "print(f\"R-squared (R²): {r2}\")"
   ]
  },
  {
   "cell_type": "markdown",
   "metadata": {},
   "source": [
    "https://scikit-learn.org/stable/modules/cross_validation.html\n",
    "Guilherme Palermo Coelho\n",
    "14:30\n",
    "- \n",
    "\n",
    "### Próximos passos:\n",
    "\n",
    "- Verificar a normalização de testes OK\n",
    "- Repetir os experimentos, para depois obter média + desvio padrão de cada métrica (MSE, RMSE, …) OK\n",
    "- Futuro:\n",
    "    - Validação Cruzada para séries temporais. OK\n",
    "    - Verificar necessidade de diferenciação da série temporal OK"
   ]
  },
  {
   "cell_type": "markdown",
   "metadata": {},
   "source": []
  },
  {
   "cell_type": "markdown",
   "metadata": {},
   "source": [
    "Sugestão\n",
    "Gráfico treinamento + teste para visualizar todo o processo do modelo OK\n",
    "Colocar as barrinhas em cada ponto para indicar o desvio padrão OK\n",
    "https://en.wikipedia.org/wiki/Error_bar#/media/File:Confidenceinterval.png\n",
    "Ajuste de hiperparâmetros do modelo \n",
    "Variar o ativo para analisar o comportamento do modelo e como ele reage "
   ]
  },
  {
   "cell_type": "markdown",
   "metadata": {},
   "source": [
    "### Próximos passos:\n",
    "- Corrigir experimentos do diferenciação → não “desdiferencia” as predições\n",
    "- Também diferenciar o novo conjunto de testes.\n",
    "- Apresentar os resultados médios para as k partições de validação\n",
    "- Os experimentos para definição de parâmetros, como número de atrasos etc devem olhar os *folds* de validação → É nestes que você tomará as decisões\n",
    "- Só no final, após todas as decisões, você irá treinar um novo modelo, usando todos os dados de treinamento, e aplicar ao novo conjunto"
   ]
  }
 ],
 "metadata": {
  "kernelspec": {
   "display_name": "ambiente",
   "language": "python",
   "name": "python3"
  },
  "language_info": {
   "codemirror_mode": {
    "name": "ipython",
    "version": 3
   },
   "file_extension": ".py",
   "mimetype": "text/x-python",
   "name": "python",
   "nbconvert_exporter": "python",
   "pygments_lexer": "ipython3",
   "version": "3.12.4"
  }
 },
 "nbformat": 4,
 "nbformat_minor": 2
}
